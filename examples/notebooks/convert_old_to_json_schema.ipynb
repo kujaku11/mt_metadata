{
 "cells": [
  {
   "cell_type": "markdown",
   "metadata": {},
   "source": [
    "# Convert Old To JSON Schema\n",
    "\n",
    "This notebook demonstrates how to convert old JSON style files to a JSON Schema file.  The conversion is relatively simple, but necessary."
   ]
  },
  {
   "cell_type": "code",
   "execution_count": 4,
   "metadata": {},
   "outputs": [
    {
     "name": "stdout",
     "output_type": "stream",
     "text": [
      "The autoreload extension is already loaded. To reload it, use:\n",
      "  %reload_ext autoreload\n"
     ]
    }
   ],
   "source": [
    "from pathlib import Path\n",
    "from mt_metadata.utils import converters\n",
    "\n",
    "%load_ext autoreload\n",
    "%autoreload 2"
   ]
  },
  {
   "cell_type": "code",
   "execution_count": 5,
   "metadata": {},
   "outputs": [],
   "source": [
    "mt_metadata_path = Path(r\"C:\\Users\\peaco\\OneDrive\\Documents\\GitHub\\mt_metadata\\mt_metadata\")"
   ]
  },
  {
   "cell_type": "code",
   "execution_count": 6,
   "metadata": {},
   "outputs": [
    {
     "name": "stdout",
     "output_type": "stream",
     "text": [
      "Error converting C:\\Users\\peaco\\OneDrive\\Documents\\GitHub\\mt_metadata\\mt_metadata\\standards\\timeseries\\auxiliary.json: string indices must be integers, not 'str'\n",
      "Error converting C:\\Users\\peaco\\OneDrive\\Documents\\GitHub\\mt_metadata\\mt_metadata\\standards\\timeseries\\battery.json: string indices must be integers, not 'str'\n",
      "Error converting C:\\Users\\peaco\\OneDrive\\Documents\\GitHub\\mt_metadata\\mt_metadata\\standards\\timeseries\\channel.json: string indices must be integers, not 'str'\n",
      "Error converting C:\\Users\\peaco\\OneDrive\\Documents\\GitHub\\mt_metadata\\mt_metadata\\standards\\timeseries\\citation.json: string indices must be integers, not 'str'\n",
      "Error converting C:\\Users\\peaco\\OneDrive\\Documents\\GitHub\\mt_metadata\\mt_metadata\\standards\\timeseries\\copyright.json: string indices must be integers, not 'str'\n",
      "Error converting C:\\Users\\peaco\\OneDrive\\Documents\\GitHub\\mt_metadata\\mt_metadata\\standards\\timeseries\\data_quality.json: string indices must be integers, not 'str'\n",
      "Error converting C:\\Users\\peaco\\OneDrive\\Documents\\GitHub\\mt_metadata\\mt_metadata\\standards\\timeseries\\declination.json: string indices must be integers, not 'str'\n",
      "Error converting C:\\Users\\peaco\\OneDrive\\Documents\\GitHub\\mt_metadata\\mt_metadata\\standards\\timeseries\\diagnostic.json: string indices must be integers, not 'str'\n",
      "Error converting C:\\Users\\peaco\\OneDrive\\Documents\\GitHub\\mt_metadata\\mt_metadata\\standards\\timeseries\\electric.json: string indices must be integers, not 'str'\n",
      "Error converting C:\\Users\\peaco\\OneDrive\\Documents\\GitHub\\mt_metadata\\mt_metadata\\standards\\timeseries\\fdsn.json: string indices must be integers, not 'str'\n",
      "Error converting C:\\Users\\peaco\\OneDrive\\Documents\\GitHub\\mt_metadata\\mt_metadata\\standards\\timeseries\\filtered.json: string indices must be integers, not 'str'\n",
      "Error converting C:\\Users\\peaco\\OneDrive\\Documents\\GitHub\\mt_metadata\\mt_metadata\\standards\\timeseries\\funding_source.json: string indices must be integers, not 'str'\n",
      "Error converting C:\\Users\\peaco\\OneDrive\\Documents\\GitHub\\mt_metadata\\mt_metadata\\standards\\timeseries\\geographic_location.json: string indices must be integers, not 'str'\n",
      "Error converting C:\\Users\\peaco\\OneDrive\\Documents\\GitHub\\mt_metadata\\mt_metadata\\standards\\timeseries\\instrument.json: string indices must be integers, not 'str'\n",
      "Error converting C:\\Users\\peaco\\OneDrive\\Documents\\GitHub\\mt_metadata\\mt_metadata\\standards\\timeseries\\location.json: string indices must be integers, not 'str'\n",
      "Error converting C:\\Users\\peaco\\OneDrive\\Documents\\GitHub\\mt_metadata\\mt_metadata\\standards\\timeseries\\magnetic.json: string indices must be integers, not 'str'\n",
      "Error converting C:\\Users\\peaco\\OneDrive\\Documents\\GitHub\\mt_metadata\\mt_metadata\\standards\\timeseries\\orientation.json: string indices must be integers, not 'str'\n",
      "Error converting C:\\Users\\peaco\\OneDrive\\Documents\\GitHub\\mt_metadata\\mt_metadata\\standards\\timeseries\\person.json: string indices must be integers, not 'str'\n",
      "Error converting C:\\Users\\peaco\\OneDrive\\Documents\\GitHub\\mt_metadata\\mt_metadata\\standards\\timeseries\\provenance.json: string indices must be integers, not 'str'\n",
      "Error converting C:\\Users\\peaco\\OneDrive\\Documents\\GitHub\\mt_metadata\\mt_metadata\\standards\\timeseries\\rating.json: string indices must be integers, not 'str'\n",
      "Error converting C:\\Users\\peaco\\OneDrive\\Documents\\GitHub\\mt_metadata\\mt_metadata\\standards\\timeseries\\run.json: string indices must be integers, not 'str'\n",
      "Error converting C:\\Users\\peaco\\OneDrive\\Documents\\GitHub\\mt_metadata\\mt_metadata\\standards\\timeseries\\software.json: string indices must be integers, not 'str'\n",
      "Error converting C:\\Users\\peaco\\OneDrive\\Documents\\GitHub\\mt_metadata\\mt_metadata\\standards\\timeseries\\station.json: string indices must be integers, not 'str'\n",
      "Error converting C:\\Users\\peaco\\OneDrive\\Documents\\GitHub\\mt_metadata\\mt_metadata\\standards\\timeseries\\survey.json: string indices must be integers, not 'str'\n",
      "Error converting C:\\Users\\peaco\\OneDrive\\Documents\\GitHub\\mt_metadata\\mt_metadata\\standards\\timeseries\\time_period.json: string indices must be integers, not 'str'\n",
      "Error converting C:\\Users\\peaco\\OneDrive\\Documents\\GitHub\\mt_metadata\\mt_metadata\\standards\\timeseries\\timing_system.json: string indices must be integers, not 'str'\n",
      "Error converting C:\\Users\\peaco\\OneDrive\\Documents\\GitHub\\mt_metadata\\mt_metadata\\standards\\timeseries\\filters\\channel_response.json: string indices must be integers, not 'str'\n",
      "Error converting C:\\Users\\peaco\\OneDrive\\Documents\\GitHub\\mt_metadata\\mt_metadata\\standards\\timeseries\\filters\\coefficient_filter.json: string indices must be integers, not 'str'\n",
      "Error converting C:\\Users\\peaco\\OneDrive\\Documents\\GitHub\\mt_metadata\\mt_metadata\\standards\\timeseries\\filters\\filter_base.json: string indices must be integers, not 'str'\n",
      "Error converting C:\\Users\\peaco\\OneDrive\\Documents\\GitHub\\mt_metadata\\mt_metadata\\standards\\timeseries\\filters\\fir_filter.json: string indices must be integers, not 'str'\n",
      "Error converting C:\\Users\\peaco\\OneDrive\\Documents\\GitHub\\mt_metadata\\mt_metadata\\standards\\timeseries\\filters\\frequency_response_table_filter.json: string indices must be integers, not 'str'\n",
      "Error converting C:\\Users\\peaco\\OneDrive\\Documents\\GitHub\\mt_metadata\\mt_metadata\\standards\\timeseries\\filters\\pole_zero_filter.json: string indices must be integers, not 'str'\n",
      "Error converting C:\\Users\\peaco\\OneDrive\\Documents\\GitHub\\mt_metadata\\mt_metadata\\standards\\timeseries\\filters\\time_delay_filter.json: string indices must be integers, not 'str'\n",
      "Error converting C:\\Users\\peaco\\OneDrive\\Documents\\GitHub\\mt_metadata\\mt_metadata\\standards\\transfer_functions\\io\\edi\\metadata\\data_section.json: string indices must be integers, not 'str'\n",
      "Error converting C:\\Users\\peaco\\OneDrive\\Documents\\GitHub\\mt_metadata\\mt_metadata\\standards\\transfer_functions\\io\\edi\\metadata\\define_measurement.json: string indices must be integers, not 'str'\n",
      "Error converting C:\\Users\\peaco\\OneDrive\\Documents\\GitHub\\mt_metadata\\mt_metadata\\standards\\transfer_functions\\io\\edi\\metadata\\emeasurement.json: string indices must be integers, not 'str'\n",
      "Error converting C:\\Users\\peaco\\OneDrive\\Documents\\GitHub\\mt_metadata\\mt_metadata\\standards\\transfer_functions\\io\\edi\\metadata\\header.json: string indices must be integers, not 'str'\n",
      "Error converting C:\\Users\\peaco\\OneDrive\\Documents\\GitHub\\mt_metadata\\mt_metadata\\standards\\transfer_functions\\io\\edi\\metadata\\hmeasurement.json: string indices must be integers, not 'str'\n",
      "Error converting C:\\Users\\peaco\\OneDrive\\Documents\\GitHub\\mt_metadata\\mt_metadata\\standards\\transfer_functions\\io\\emtfxml\\metadata\\attachment.json: string indices must be integers, not 'str'\n",
      "Error converting C:\\Users\\peaco\\OneDrive\\Documents\\GitHub\\mt_metadata\\mt_metadata\\standards\\transfer_functions\\io\\emtfxml\\metadata\\channels.json: string indices must be integers, not 'str'\n",
      "Error converting C:\\Users\\peaco\\OneDrive\\Documents\\GitHub\\mt_metadata\\mt_metadata\\standards\\transfer_functions\\io\\emtfxml\\metadata\\citation.json: string indices must be integers, not 'str'\n",
      "Error converting C:\\Users\\peaco\\OneDrive\\Documents\\GitHub\\mt_metadata\\mt_metadata\\standards\\transfer_functions\\io\\emtfxml\\metadata\\comment.json: string indices must be integers, not 'str'\n",
      "Error converting C:\\Users\\peaco\\OneDrive\\Documents\\GitHub\\mt_metadata\\mt_metadata\\standards\\transfer_functions\\io\\emtfxml\\metadata\\copyright.json: string indices must be integers, not 'str'\n",
      "Error converting C:\\Users\\peaco\\OneDrive\\Documents\\GitHub\\mt_metadata\\mt_metadata\\standards\\transfer_functions\\io\\emtfxml\\metadata\\data_quality_notes.json: string indices must be integers, not 'str'\n",
      "Error converting C:\\Users\\peaco\\OneDrive\\Documents\\GitHub\\mt_metadata\\mt_metadata\\standards\\transfer_functions\\io\\emtfxml\\metadata\\data_quality_warnings.json: string indices must be integers, not 'str'\n",
      "Error converting C:\\Users\\peaco\\OneDrive\\Documents\\GitHub\\mt_metadata\\mt_metadata\\standards\\transfer_functions\\io\\emtfxml\\metadata\\data_type.json: string indices must be integers, not 'str'\n",
      "Error converting C:\\Users\\peaco\\OneDrive\\Documents\\GitHub\\mt_metadata\\mt_metadata\\standards\\transfer_functions\\io\\emtfxml\\metadata\\data_types.json: string indices must be integers, not 'str'\n",
      "Error converting C:\\Users\\peaco\\OneDrive\\Documents\\GitHub\\mt_metadata\\mt_metadata\\standards\\transfer_functions\\io\\emtfxml\\metadata\\description.json: string indices must be integers, not 'str'\n",
      "Error converting C:\\Users\\peaco\\OneDrive\\Documents\\GitHub\\mt_metadata\\mt_metadata\\standards\\transfer_functions\\io\\emtfxml\\metadata\\dipole.json: string indices must be integers, not 'str'\n",
      "Error converting C:\\Users\\peaco\\OneDrive\\Documents\\GitHub\\mt_metadata\\mt_metadata\\standards\\transfer_functions\\io\\emtfxml\\metadata\\electric.json: string indices must be integers, not 'str'\n",
      "Error converting C:\\Users\\peaco\\OneDrive\\Documents\\GitHub\\mt_metadata\\mt_metadata\\standards\\transfer_functions\\io\\emtfxml\\metadata\\electrode.json: string indices must be integers, not 'str'\n",
      "Error converting C:\\Users\\peaco\\OneDrive\\Documents\\GitHub\\mt_metadata\\mt_metadata\\standards\\transfer_functions\\io\\emtfxml\\metadata\\emtf.json: string indices must be integers, not 'str'\n",
      "Error converting C:\\Users\\peaco\\OneDrive\\Documents\\GitHub\\mt_metadata\\mt_metadata\\standards\\transfer_functions\\io\\emtfxml\\metadata\\estimate.json: string indices must be integers, not 'str'\n",
      "Error converting C:\\Users\\peaco\\OneDrive\\Documents\\GitHub\\mt_metadata\\mt_metadata\\standards\\transfer_functions\\io\\emtfxml\\metadata\\external_url.json: string indices must be integers, not 'str'\n",
      "Error converting C:\\Users\\peaco\\OneDrive\\Documents\\GitHub\\mt_metadata\\mt_metadata\\standards\\transfer_functions\\io\\emtfxml\\metadata\\location.json: string indices must be integers, not 'str'\n",
      "Error converting C:\\Users\\peaco\\OneDrive\\Documents\\GitHub\\mt_metadata\\mt_metadata\\standards\\transfer_functions\\io\\emtfxml\\metadata\\magnetic.json: string indices must be integers, not 'str'\n",
      "Error converting C:\\Users\\peaco\\OneDrive\\Documents\\GitHub\\mt_metadata\\mt_metadata\\standards\\transfer_functions\\io\\emtfxml\\metadata\\magnetometer.json: string indices must be integers, not 'str'\n",
      "Error converting C:\\Users\\peaco\\OneDrive\\Documents\\GitHub\\mt_metadata\\mt_metadata\\standards\\transfer_functions\\io\\emtfxml\\metadata\\orientation.json: string indices must be integers, not 'str'\n",
      "Error converting C:\\Users\\peaco\\OneDrive\\Documents\\GitHub\\mt_metadata\\mt_metadata\\standards\\transfer_functions\\io\\emtfxml\\metadata\\period_range.json: string indices must be integers, not 'str'\n",
      "Error converting C:\\Users\\peaco\\OneDrive\\Documents\\GitHub\\mt_metadata\\mt_metadata\\standards\\transfer_functions\\io\\emtfxml\\metadata\\person.json: string indices must be integers, not 'str'\n",
      "Error converting C:\\Users\\peaco\\OneDrive\\Documents\\GitHub\\mt_metadata\\mt_metadata\\standards\\transfer_functions\\io\\emtfxml\\metadata\\primary_data.json: string indices must be integers, not 'str'\n",
      "Error converting C:\\Users\\peaco\\OneDrive\\Documents\\GitHub\\mt_metadata\\mt_metadata\\standards\\transfer_functions\\io\\emtfxml\\metadata\\processing_info.json: string indices must be integers, not 'str'\n",
      "Error converting C:\\Users\\peaco\\OneDrive\\Documents\\GitHub\\mt_metadata\\mt_metadata\\standards\\transfer_functions\\io\\emtfxml\\metadata\\provenance.json: string indices must be integers, not 'str'\n",
      "Error converting C:\\Users\\peaco\\OneDrive\\Documents\\GitHub\\mt_metadata\\mt_metadata\\standards\\transfer_functions\\io\\emtfxml\\metadata\\remote_ref.json: string indices must be integers, not 'str'\n",
      "Error converting C:\\Users\\peaco\\OneDrive\\Documents\\GitHub\\mt_metadata\\mt_metadata\\standards\\transfer_functions\\io\\emtfxml\\metadata\\run.json: string indices must be integers, not 'str'\n",
      "Error converting C:\\Users\\peaco\\OneDrive\\Documents\\GitHub\\mt_metadata\\mt_metadata\\standards\\transfer_functions\\io\\emtfxml\\metadata\\site.json: string indices must be integers, not 'str'\n",
      "Error converting C:\\Users\\peaco\\OneDrive\\Documents\\GitHub\\mt_metadata\\mt_metadata\\standards\\transfer_functions\\io\\emtfxml\\metadata\\site_layout.json: string indices must be integers, not 'str'\n",
      "Error converting C:\\Users\\peaco\\OneDrive\\Documents\\GitHub\\mt_metadata\\mt_metadata\\standards\\transfer_functions\\io\\emtfxml\\metadata\\software.json: string indices must be integers, not 'str'\n",
      "Error converting C:\\Users\\peaco\\OneDrive\\Documents\\GitHub\\mt_metadata\\mt_metadata\\standards\\transfer_functions\\io\\emtfxml\\metadata\\statistical_estimates.json: string indices must be integers, not 'str'\n",
      "Error converting C:\\Users\\peaco\\OneDrive\\Documents\\GitHub\\mt_metadata\\mt_metadata\\standards\\transfer_functions\\io\\emtfxml\\metadata\\value.json: string indices must be integers, not 'str'\n",
      "Error converting C:\\Users\\peaco\\OneDrive\\Documents\\GitHub\\mt_metadata\\mt_metadata\\standards\\transfer_functions\\io\\jfiles\\metadata\\birrp_angles.json: string indices must be integers, not 'str'\n",
      "Error converting C:\\Users\\peaco\\OneDrive\\Documents\\GitHub\\mt_metadata\\mt_metadata\\standards\\transfer_functions\\io\\jfiles\\metadata\\birrp_block.json: string indices must be integers, not 'str'\n",
      "Error converting C:\\Users\\peaco\\OneDrive\\Documents\\GitHub\\mt_metadata\\mt_metadata\\standards\\transfer_functions\\io\\jfiles\\metadata\\birrp_parameters.json: string indices must be integers, not 'str'\n",
      "Error converting C:\\Users\\peaco\\OneDrive\\Documents\\GitHub\\mt_metadata\\mt_metadata\\standards\\transfer_functions\\io\\jfiles\\metadata\\header.json: string indices must be integers, not 'str'\n",
      "Error converting C:\\Users\\peaco\\OneDrive\\Documents\\GitHub\\mt_metadata\\mt_metadata\\standards\\transfer_functions\\io\\zfiles\\metadata\\channel.json: string indices must be integers, not 'str'\n",
      "Error converting C:\\Users\\peaco\\OneDrive\\Documents\\GitHub\\mt_metadata\\mt_metadata\\standards\\transfer_functions\\io\\zonge\\metadata\\auto.json: string indices must be integers, not 'str'\n",
      "Error converting C:\\Users\\peaco\\OneDrive\\Documents\\GitHub\\mt_metadata\\mt_metadata\\standards\\transfer_functions\\io\\zonge\\metadata\\ch.json: string indices must be integers, not 'str'\n",
      "Error converting C:\\Users\\peaco\\OneDrive\\Documents\\GitHub\\mt_metadata\\mt_metadata\\standards\\transfer_functions\\io\\zonge\\metadata\\d_plus.json: string indices must be integers, not 'str'\n",
      "Error converting C:\\Users\\peaco\\OneDrive\\Documents\\GitHub\\mt_metadata\\mt_metadata\\standards\\transfer_functions\\io\\zonge\\metadata\\gdp.json: string indices must be integers, not 'str'\n",
      "Error converting C:\\Users\\peaco\\OneDrive\\Documents\\GitHub\\mt_metadata\\mt_metadata\\standards\\transfer_functions\\io\\zonge\\metadata\\gps.json: string indices must be integers, not 'str'\n",
      "Error converting C:\\Users\\peaco\\OneDrive\\Documents\\GitHub\\mt_metadata\\mt_metadata\\standards\\transfer_functions\\io\\zonge\\metadata\\header.json: string indices must be integers, not 'str'\n",
      "Error converting C:\\Users\\peaco\\OneDrive\\Documents\\GitHub\\mt_metadata\\mt_metadata\\standards\\transfer_functions\\io\\zonge\\metadata\\job.json: string indices must be integers, not 'str'\n",
      "Error converting C:\\Users\\peaco\\OneDrive\\Documents\\GitHub\\mt_metadata\\mt_metadata\\standards\\transfer_functions\\io\\zonge\\metadata\\line.json: string indices must be integers, not 'str'\n",
      "Error converting C:\\Users\\peaco\\OneDrive\\Documents\\GitHub\\mt_metadata\\mt_metadata\\standards\\transfer_functions\\io\\zonge\\metadata\\mtft24.json: string indices must be integers, not 'str'\n",
      "Error converting C:\\Users\\peaco\\OneDrive\\Documents\\GitHub\\mt_metadata\\mt_metadata\\standards\\transfer_functions\\io\\zonge\\metadata\\mt_edit.json: string indices must be integers, not 'str'\n",
      "Error converting C:\\Users\\peaco\\OneDrive\\Documents\\GitHub\\mt_metadata\\mt_metadata\\standards\\transfer_functions\\io\\zonge\\metadata\\phase_slope.json: string indices must be integers, not 'str'\n",
      "Error converting C:\\Users\\peaco\\OneDrive\\Documents\\GitHub\\mt_metadata\\mt_metadata\\standards\\transfer_functions\\io\\zonge\\metadata\\rx.json: string indices must be integers, not 'str'\n",
      "Error converting C:\\Users\\peaco\\OneDrive\\Documents\\GitHub\\mt_metadata\\mt_metadata\\standards\\transfer_functions\\io\\zonge\\metadata\\stn.json: string indices must be integers, not 'str'\n",
      "Error converting C:\\Users\\peaco\\OneDrive\\Documents\\GitHub\\mt_metadata\\mt_metadata\\standards\\transfer_functions\\io\\zonge\\metadata\\survey.json: string indices must be integers, not 'str'\n",
      "Error converting C:\\Users\\peaco\\OneDrive\\Documents\\GitHub\\mt_metadata\\mt_metadata\\standards\\transfer_functions\\io\\zonge\\metadata\\tx.json: string indices must be integers, not 'str'\n",
      "Error converting C:\\Users\\peaco\\OneDrive\\Documents\\GitHub\\mt_metadata\\mt_metadata\\standards\\transfer_functions\\io\\zonge\\metadata\\unit.json: string indices must be integers, not 'str'\n",
      "Error converting C:\\Users\\peaco\\OneDrive\\Documents\\GitHub\\mt_metadata\\mt_metadata\\standards\\transfer_functions\\processing\\aurora\\band.json: string indices must be integers, not 'str'\n",
      "Error converting C:\\Users\\peaco\\OneDrive\\Documents\\GitHub\\mt_metadata\\mt_metadata\\standards\\transfer_functions\\processing\\aurora\\channel.json: string indices must be integers, not 'str'\n",
      "Error converting C:\\Users\\peaco\\OneDrive\\Documents\\GitHub\\mt_metadata\\mt_metadata\\standards\\transfer_functions\\processing\\aurora\\channel_nomenclature.json: string indices must be integers, not 'str'\n",
      "Error converting C:\\Users\\peaco\\OneDrive\\Documents\\GitHub\\mt_metadata\\mt_metadata\\standards\\transfer_functions\\processing\\aurora\\config.json: string indices must be integers, not 'str'\n",
      "Error converting C:\\Users\\peaco\\OneDrive\\Documents\\GitHub\\mt_metadata\\mt_metadata\\standards\\transfer_functions\\processing\\aurora\\decimation.json: string indices must be integers, not 'str'\n",
      "Error converting C:\\Users\\peaco\\OneDrive\\Documents\\GitHub\\mt_metadata\\mt_metadata\\standards\\transfer_functions\\processing\\aurora\\decimation_level.json: string indices must be integers, not 'str'\n",
      "Error converting C:\\Users\\peaco\\OneDrive\\Documents\\GitHub\\mt_metadata\\mt_metadata\\standards\\transfer_functions\\processing\\aurora\\estimator.json: string indices must be integers, not 'str'\n",
      "Error converting C:\\Users\\peaco\\OneDrive\\Documents\\GitHub\\mt_metadata\\mt_metadata\\standards\\transfer_functions\\processing\\aurora\\processing.json: string indices must be integers, not 'str'\n",
      "Error converting C:\\Users\\peaco\\OneDrive\\Documents\\GitHub\\mt_metadata\\mt_metadata\\standards\\transfer_functions\\processing\\aurora\\regression.json: string indices must be integers, not 'str'\n",
      "Error converting C:\\Users\\peaco\\OneDrive\\Documents\\GitHub\\mt_metadata\\mt_metadata\\standards\\transfer_functions\\processing\\aurora\\run.json: string indices must be integers, not 'str'\n",
      "Error converting C:\\Users\\peaco\\OneDrive\\Documents\\GitHub\\mt_metadata\\mt_metadata\\standards\\transfer_functions\\processing\\aurora\\station.json: string indices must be integers, not 'str'\n",
      "Error converting C:\\Users\\peaco\\OneDrive\\Documents\\GitHub\\mt_metadata\\mt_metadata\\standards\\transfer_functions\\processing\\aurora\\stations.json: string indices must be integers, not 'str'\n",
      "Error converting C:\\Users\\peaco\\OneDrive\\Documents\\GitHub\\mt_metadata\\mt_metadata\\standards\\transfer_functions\\processing\\aurora\\window.json: string indices must be integers, not 'str'\n",
      "Error converting C:\\Users\\peaco\\OneDrive\\Documents\\GitHub\\mt_metadata\\mt_metadata\\standards\\transfer_functions\\processing\\fourier_coefficients\\decimation.json: string indices must be integers, not 'str'\n",
      "Error converting C:\\Users\\peaco\\OneDrive\\Documents\\GitHub\\mt_metadata\\mt_metadata\\standards\\transfer_functions\\processing\\fourier_coefficients\\fc.json: string indices must be integers, not 'str'\n",
      "Error converting C:\\Users\\peaco\\OneDrive\\Documents\\GitHub\\mt_metadata\\mt_metadata\\standards\\transfer_functions\\processing\\fourier_coefficients\\fc_channel.json: string indices must be integers, not 'str'\n",
      "Error converting C:\\Users\\peaco\\OneDrive\\Documents\\GitHub\\mt_metadata\\mt_metadata\\standards\\transfer_functions\\tf\\comment.json: string indices must be integers, not 'str'\n",
      "Error converting C:\\Users\\peaco\\OneDrive\\Documents\\GitHub\\mt_metadata\\mt_metadata\\standards\\transfer_functions\\tf\\station.json: string indices must be integers, not 'str'\n",
      "Error converting C:\\Users\\peaco\\OneDrive\\Documents\\GitHub\\mt_metadata\\mt_metadata\\standards\\transfer_functions\\tf\\statistical_estimate.json: string indices must be integers, not 'str'\n",
      "Error converting C:\\Users\\peaco\\OneDrive\\Documents\\GitHub\\mt_metadata\\mt_metadata\\standards\\transfer_functions\\tf\\survey.json: string indices must be integers, not 'str'\n",
      "Error converting C:\\Users\\peaco\\OneDrive\\Documents\\GitHub\\mt_metadata\\mt_metadata\\standards\\transfer_functions\\tf\\transfer_function.json: string indices must be integers, not 'str'\n",
      "Error converting C:\\Users\\peaco\\OneDrive\\Documents\\GitHub\\mt_metadata\\mt_metadata\\timeseries\\standards\\timing_system.json: 'Could not find the type int in the type dict.'\n",
      "Error converting C:\\Users\\peaco\\OneDrive\\Documents\\GitHub\\mt_metadata\\mt_metadata\\transfer_functions\\io\\zfiles\\metadata\\standards\\channel.json: 'Could not find the type str in the type dict.'\n",
      "Error converting C:\\Users\\peaco\\OneDrive\\Documents\\GitHub\\mt_metadata\\mt_metadata\\transfer_functions\\processing\\aurora\\standards\\channel_nomenclatures.json: 'type'\n",
      "Error converting C:\\Users\\peaco\\OneDrive\\Documents\\GitHub\\mt_metadata\\mt_metadata\\transfer_functions\\processing\\aurora\\standards\\decimation_level.json: 'Could not find the type bool in the type dict.'\n",
      "Error converting C:\\Users\\peaco\\OneDrive\\Documents\\GitHub\\mt_metadata\\mt_metadata\\transfer_functions\\processing\\aurora\\standards\\regression.json: 'Could not find the type int in the type dict.'\n",
      "Error converting C:\\Users\\peaco\\OneDrive\\Documents\\GitHub\\mt_metadata\\mt_metadata\\transfer_functions\\processing\\fourier_coefficients\\standards\\decimation.json: 'Could not find the type bool in the type dict.'\n"
     ]
    }
   ],
   "source": [
    "new_files = []\n",
    "# Convert all JSON files in the mt_metadata directory to JSON schema\n",
    "for old_file in mt_metadata_path.rglob(\"*.json\"):\n",
    "    if \"schema\" in old_file.name:\n",
    "        continue\n",
    "    try:\n",
    "        new_files.append(converters.to_json_schema(old_file))\n",
    "    except Exception as error:\n",
    "        print(f\"Error converting {old_file}: {error}\")"
   ]
  },
  {
   "cell_type": "code",
   "execution_count": null,
   "metadata": {},
   "outputs": [],
   "source": []
  }
 ],
 "metadata": {
  "kernelspec": {
   "display_name": "py311",
   "language": "python",
   "name": "python3"
  },
  "language_info": {
   "codemirror_mode": {
    "name": "ipython",
    "version": 3
   },
   "file_extension": ".py",
   "mimetype": "text/x-python",
   "name": "python",
   "nbconvert_exporter": "python",
   "pygments_lexer": "ipython3",
   "version": "3.11.11"
  }
 },
 "nbformat": 4,
 "nbformat_minor": 2
}
