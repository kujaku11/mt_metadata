{
 "cells": [
  {
   "cell_type": "markdown",
   "metadata": {},
   "source": [
    "# Convert Old To JSON Schema\n",
    "\n",
    "This notebook demonstrates how to convert old JSON style files to a JSON Schema file.  The conversion is relatively simple, but necessary."
   ]
  },
  {
   "cell_type": "code",
   "execution_count": 1,
   "metadata": {},
   "outputs": [],
   "source": [
    "from pathlib import Path\n",
    "from mt_metadata.utils import converters\n",
    "\n",
    "%load_ext autoreload\n",
    "%autoreload 2"
   ]
  },
  {
   "cell_type": "code",
   "execution_count": 2,
   "metadata": {},
   "outputs": [],
   "source": [
    "mt_metadata_path = Path(r\"C:\\Users\\peaco\\OneDrive\\Documents\\GitHub\\mt_metadata\\mt_metadata\")"
   ]
  },
  {
   "cell_type": "code",
   "execution_count": null,
   "metadata": {},
   "outputs": [
    {
     "name": "stdout",
     "output_type": "stream",
     "text": [
      "C:\\Users\\peaco\\OneDrive\\Documents\\GitHub\\mt_metadata\\mt_metadata\\timeseries\\filters\\standards\\channel_response.json\n",
      "C:\\Users\\peaco\\OneDrive\\Documents\\GitHub\\mt_metadata\\mt_metadata\\timeseries\\filters\\standards\\coefficient_filter.json\n",
      "C:\\Users\\peaco\\OneDrive\\Documents\\GitHub\\mt_metadata\\mt_metadata\\timeseries\\filters\\standards\\filter_base.json\n",
      "C:\\Users\\peaco\\OneDrive\\Documents\\GitHub\\mt_metadata\\mt_metadata\\timeseries\\filters\\standards\\fir_filter.json\n",
      "C:\\Users\\peaco\\OneDrive\\Documents\\GitHub\\mt_metadata\\mt_metadata\\timeseries\\filters\\standards\\frequency_response_table_filter.json\n",
      "C:\\Users\\peaco\\OneDrive\\Documents\\GitHub\\mt_metadata\\mt_metadata\\timeseries\\filters\\standards\\pole_zero_filter.json\n",
      "C:\\Users\\peaco\\OneDrive\\Documents\\GitHub\\mt_metadata\\mt_metadata\\timeseries\\filters\\standards\\time_delay_filter.json\n",
      "C:\\Users\\peaco\\OneDrive\\Documents\\GitHub\\mt_metadata\\mt_metadata\\timeseries\\standards\\auxiliary.json\n",
      "C:\\Users\\peaco\\OneDrive\\Documents\\GitHub\\mt_metadata\\mt_metadata\\timeseries\\standards\\battery.json\n",
      "C:\\Users\\peaco\\OneDrive\\Documents\\GitHub\\mt_metadata\\mt_metadata\\timeseries\\standards\\channel.json\n",
      "C:\\Users\\peaco\\OneDrive\\Documents\\GitHub\\mt_metadata\\mt_metadata\\timeseries\\standards\\citation.json\n",
      "C:\\Users\\peaco\\OneDrive\\Documents\\GitHub\\mt_metadata\\mt_metadata\\timeseries\\standards\\copyright.json\n",
      "C:\\Users\\peaco\\OneDrive\\Documents\\GitHub\\mt_metadata\\mt_metadata\\timeseries\\standards\\data_quality.json\n",
      "C:\\Users\\peaco\\OneDrive\\Documents\\GitHub\\mt_metadata\\mt_metadata\\timeseries\\standards\\declination.json\n",
      "C:\\Users\\peaco\\OneDrive\\Documents\\GitHub\\mt_metadata\\mt_metadata\\timeseries\\standards\\diagnostic.json\n",
      "C:\\Users\\peaco\\OneDrive\\Documents\\GitHub\\mt_metadata\\mt_metadata\\timeseries\\standards\\electric.json\n",
      "C:\\Users\\peaco\\OneDrive\\Documents\\GitHub\\mt_metadata\\mt_metadata\\timeseries\\standards\\fdsn.json\n",
      "C:\\Users\\peaco\\OneDrive\\Documents\\GitHub\\mt_metadata\\mt_metadata\\timeseries\\standards\\filtered.json\n",
      "C:\\Users\\peaco\\OneDrive\\Documents\\GitHub\\mt_metadata\\mt_metadata\\timeseries\\standards\\funding_source.json\n",
      "C:\\Users\\peaco\\OneDrive\\Documents\\GitHub\\mt_metadata\\mt_metadata\\timeseries\\standards\\geographic_location.json\n",
      "C:\\Users\\peaco\\OneDrive\\Documents\\GitHub\\mt_metadata\\mt_metadata\\timeseries\\standards\\instrument.json\n",
      "C:\\Users\\peaco\\OneDrive\\Documents\\GitHub\\mt_metadata\\mt_metadata\\timeseries\\standards\\location.json\n",
      "C:\\Users\\peaco\\OneDrive\\Documents\\GitHub\\mt_metadata\\mt_metadata\\timeseries\\standards\\magnetic.json\n",
      "C:\\Users\\peaco\\OneDrive\\Documents\\GitHub\\mt_metadata\\mt_metadata\\timeseries\\standards\\orientation.json\n",
      "C:\\Users\\peaco\\OneDrive\\Documents\\GitHub\\mt_metadata\\mt_metadata\\timeseries\\standards\\person.json\n",
      "C:\\Users\\peaco\\OneDrive\\Documents\\GitHub\\mt_metadata\\mt_metadata\\timeseries\\standards\\provenance.json\n",
      "C:\\Users\\peaco\\OneDrive\\Documents\\GitHub\\mt_metadata\\mt_metadata\\timeseries\\standards\\rating.json\n",
      "C:\\Users\\peaco\\OneDrive\\Documents\\GitHub\\mt_metadata\\mt_metadata\\timeseries\\standards\\run.json\n",
      "C:\\Users\\peaco\\OneDrive\\Documents\\GitHub\\mt_metadata\\mt_metadata\\timeseries\\standards\\software.json\n",
      "C:\\Users\\peaco\\OneDrive\\Documents\\GitHub\\mt_metadata\\mt_metadata\\timeseries\\standards\\station.json\n",
      "C:\\Users\\peaco\\OneDrive\\Documents\\GitHub\\mt_metadata\\mt_metadata\\timeseries\\standards\\survey.json\n",
      "C:\\Users\\peaco\\OneDrive\\Documents\\GitHub\\mt_metadata\\mt_metadata\\timeseries\\standards\\time_period.json\n",
      "C:\\Users\\peaco\\OneDrive\\Documents\\GitHub\\mt_metadata\\mt_metadata\\timeseries\\standards\\timing_system.json\n",
      "C:\\Users\\peaco\\OneDrive\\Documents\\GitHub\\mt_metadata\\mt_metadata\\transfer_functions\\io\\edi\\metadata\\standards\\data_section.json\n",
      "C:\\Users\\peaco\\OneDrive\\Documents\\GitHub\\mt_metadata\\mt_metadata\\transfer_functions\\io\\edi\\metadata\\standards\\define_measurement.json\n",
      "C:\\Users\\peaco\\OneDrive\\Documents\\GitHub\\mt_metadata\\mt_metadata\\transfer_functions\\io\\edi\\metadata\\standards\\emeasurement.json\n",
      "C:\\Users\\peaco\\OneDrive\\Documents\\GitHub\\mt_metadata\\mt_metadata\\transfer_functions\\io\\edi\\metadata\\standards\\header.json\n",
      "C:\\Users\\peaco\\OneDrive\\Documents\\GitHub\\mt_metadata\\mt_metadata\\transfer_functions\\io\\edi\\metadata\\standards\\hmeasurement.json\n",
      "C:\\Users\\peaco\\OneDrive\\Documents\\GitHub\\mt_metadata\\mt_metadata\\transfer_functions\\io\\emtfxml\\metadata\\standards\\attachment.json\n",
      "C:\\Users\\peaco\\OneDrive\\Documents\\GitHub\\mt_metadata\\mt_metadata\\transfer_functions\\io\\emtfxml\\metadata\\standards\\channels.json\n",
      "C:\\Users\\peaco\\OneDrive\\Documents\\GitHub\\mt_metadata\\mt_metadata\\transfer_functions\\io\\emtfxml\\metadata\\standards\\citation.json\n",
      "C:\\Users\\peaco\\OneDrive\\Documents\\GitHub\\mt_metadata\\mt_metadata\\transfer_functions\\io\\emtfxml\\metadata\\standards\\comment.json\n",
      "C:\\Users\\peaco\\OneDrive\\Documents\\GitHub\\mt_metadata\\mt_metadata\\transfer_functions\\io\\emtfxml\\metadata\\standards\\copyright.json\n",
      "C:\\Users\\peaco\\OneDrive\\Documents\\GitHub\\mt_metadata\\mt_metadata\\transfer_functions\\io\\emtfxml\\metadata\\standards\\data_quality_notes.json\n",
      "C:\\Users\\peaco\\OneDrive\\Documents\\GitHub\\mt_metadata\\mt_metadata\\transfer_functions\\io\\emtfxml\\metadata\\standards\\data_quality_warnings.json\n",
      "C:\\Users\\peaco\\OneDrive\\Documents\\GitHub\\mt_metadata\\mt_metadata\\transfer_functions\\io\\emtfxml\\metadata\\standards\\data_type.json\n",
      "C:\\Users\\peaco\\OneDrive\\Documents\\GitHub\\mt_metadata\\mt_metadata\\transfer_functions\\io\\emtfxml\\metadata\\standards\\data_types.json\n",
      "C:\\Users\\peaco\\OneDrive\\Documents\\GitHub\\mt_metadata\\mt_metadata\\transfer_functions\\io\\emtfxml\\metadata\\standards\\description.json\n",
      "C:\\Users\\peaco\\OneDrive\\Documents\\GitHub\\mt_metadata\\mt_metadata\\transfer_functions\\io\\emtfxml\\metadata\\standards\\dipole.json\n",
      "C:\\Users\\peaco\\OneDrive\\Documents\\GitHub\\mt_metadata\\mt_metadata\\transfer_functions\\io\\emtfxml\\metadata\\standards\\electric.json\n",
      "C:\\Users\\peaco\\OneDrive\\Documents\\GitHub\\mt_metadata\\mt_metadata\\transfer_functions\\io\\emtfxml\\metadata\\standards\\electrode.json\n",
      "C:\\Users\\peaco\\OneDrive\\Documents\\GitHub\\mt_metadata\\mt_metadata\\transfer_functions\\io\\emtfxml\\metadata\\standards\\emtf.json\n",
      "C:\\Users\\peaco\\OneDrive\\Documents\\GitHub\\mt_metadata\\mt_metadata\\transfer_functions\\io\\emtfxml\\metadata\\standards\\estimate.json\n",
      "C:\\Users\\peaco\\OneDrive\\Documents\\GitHub\\mt_metadata\\mt_metadata\\transfer_functions\\io\\emtfxml\\metadata\\standards\\external_url.json\n",
      "C:\\Users\\peaco\\OneDrive\\Documents\\GitHub\\mt_metadata\\mt_metadata\\transfer_functions\\io\\emtfxml\\metadata\\standards\\location.json\n",
      "C:\\Users\\peaco\\OneDrive\\Documents\\GitHub\\mt_metadata\\mt_metadata\\transfer_functions\\io\\emtfxml\\metadata\\standards\\magnetic.json\n",
      "C:\\Users\\peaco\\OneDrive\\Documents\\GitHub\\mt_metadata\\mt_metadata\\transfer_functions\\io\\emtfxml\\metadata\\standards\\magnetometer.json\n",
      "C:\\Users\\peaco\\OneDrive\\Documents\\GitHub\\mt_metadata\\mt_metadata\\transfer_functions\\io\\emtfxml\\metadata\\standards\\orientation.json\n",
      "C:\\Users\\peaco\\OneDrive\\Documents\\GitHub\\mt_metadata\\mt_metadata\\transfer_functions\\io\\emtfxml\\metadata\\standards\\period_range.json\n",
      "C:\\Users\\peaco\\OneDrive\\Documents\\GitHub\\mt_metadata\\mt_metadata\\transfer_functions\\io\\emtfxml\\metadata\\standards\\person.json\n",
      "C:\\Users\\peaco\\OneDrive\\Documents\\GitHub\\mt_metadata\\mt_metadata\\transfer_functions\\io\\emtfxml\\metadata\\standards\\primary_data.json\n",
      "C:\\Users\\peaco\\OneDrive\\Documents\\GitHub\\mt_metadata\\mt_metadata\\transfer_functions\\io\\emtfxml\\metadata\\standards\\processing_info.json\n",
      "C:\\Users\\peaco\\OneDrive\\Documents\\GitHub\\mt_metadata\\mt_metadata\\transfer_functions\\io\\emtfxml\\metadata\\standards\\provenance.json\n",
      "C:\\Users\\peaco\\OneDrive\\Documents\\GitHub\\mt_metadata\\mt_metadata\\transfer_functions\\io\\emtfxml\\metadata\\standards\\remote_ref.json\n",
      "C:\\Users\\peaco\\OneDrive\\Documents\\GitHub\\mt_metadata\\mt_metadata\\transfer_functions\\io\\emtfxml\\metadata\\standards\\run.json\n",
      "C:\\Users\\peaco\\OneDrive\\Documents\\GitHub\\mt_metadata\\mt_metadata\\transfer_functions\\io\\emtfxml\\metadata\\standards\\site.json\n",
      "C:\\Users\\peaco\\OneDrive\\Documents\\GitHub\\mt_metadata\\mt_metadata\\transfer_functions\\io\\emtfxml\\metadata\\standards\\site_layout.json\n",
      "C:\\Users\\peaco\\OneDrive\\Documents\\GitHub\\mt_metadata\\mt_metadata\\transfer_functions\\io\\emtfxml\\metadata\\standards\\software.json\n",
      "C:\\Users\\peaco\\OneDrive\\Documents\\GitHub\\mt_metadata\\mt_metadata\\transfer_functions\\io\\emtfxml\\metadata\\standards\\statistical_estimates.json\n",
      "C:\\Users\\peaco\\OneDrive\\Documents\\GitHub\\mt_metadata\\mt_metadata\\transfer_functions\\io\\emtfxml\\metadata\\standards\\value.json\n",
      "C:\\Users\\peaco\\OneDrive\\Documents\\GitHub\\mt_metadata\\mt_metadata\\transfer_functions\\io\\jfiles\\metadata\\standards\\birrp_angles.json\n",
      "C:\\Users\\peaco\\OneDrive\\Documents\\GitHub\\mt_metadata\\mt_metadata\\transfer_functions\\io\\jfiles\\metadata\\standards\\birrp_block.json\n",
      "C:\\Users\\peaco\\OneDrive\\Documents\\GitHub\\mt_metadata\\mt_metadata\\transfer_functions\\io\\jfiles\\metadata\\standards\\birrp_parameters.json\n",
      "C:\\Users\\peaco\\OneDrive\\Documents\\GitHub\\mt_metadata\\mt_metadata\\transfer_functions\\io\\jfiles\\metadata\\standards\\header.json\n",
      "C:\\Users\\peaco\\OneDrive\\Documents\\GitHub\\mt_metadata\\mt_metadata\\transfer_functions\\io\\zfiles\\metadata\\standards\\channel.json\n",
      "C:\\Users\\peaco\\OneDrive\\Documents\\GitHub\\mt_metadata\\mt_metadata\\transfer_functions\\io\\zonge\\metadata\\standards\\auto.json\n",
      "C:\\Users\\peaco\\OneDrive\\Documents\\GitHub\\mt_metadata\\mt_metadata\\transfer_functions\\io\\zonge\\metadata\\standards\\ch.json\n",
      "C:\\Users\\peaco\\OneDrive\\Documents\\GitHub\\mt_metadata\\mt_metadata\\transfer_functions\\io\\zonge\\metadata\\standards\\d_plus.json\n",
      "C:\\Users\\peaco\\OneDrive\\Documents\\GitHub\\mt_metadata\\mt_metadata\\transfer_functions\\io\\zonge\\metadata\\standards\\gdp.json\n",
      "C:\\Users\\peaco\\OneDrive\\Documents\\GitHub\\mt_metadata\\mt_metadata\\transfer_functions\\io\\zonge\\metadata\\standards\\gps.json\n",
      "C:\\Users\\peaco\\OneDrive\\Documents\\GitHub\\mt_metadata\\mt_metadata\\transfer_functions\\io\\zonge\\metadata\\standards\\header.json\n",
      "C:\\Users\\peaco\\OneDrive\\Documents\\GitHub\\mt_metadata\\mt_metadata\\transfer_functions\\io\\zonge\\metadata\\standards\\job.json\n",
      "C:\\Users\\peaco\\OneDrive\\Documents\\GitHub\\mt_metadata\\mt_metadata\\transfer_functions\\io\\zonge\\metadata\\standards\\line.json\n",
      "C:\\Users\\peaco\\OneDrive\\Documents\\GitHub\\mt_metadata\\mt_metadata\\transfer_functions\\io\\zonge\\metadata\\standards\\mtft24.json\n",
      "C:\\Users\\peaco\\OneDrive\\Documents\\GitHub\\mt_metadata\\mt_metadata\\transfer_functions\\io\\zonge\\metadata\\standards\\mt_edit.json\n",
      "C:\\Users\\peaco\\OneDrive\\Documents\\GitHub\\mt_metadata\\mt_metadata\\transfer_functions\\io\\zonge\\metadata\\standards\\phase_slope.json\n",
      "C:\\Users\\peaco\\OneDrive\\Documents\\GitHub\\mt_metadata\\mt_metadata\\transfer_functions\\io\\zonge\\metadata\\standards\\rx.json\n",
      "C:\\Users\\peaco\\OneDrive\\Documents\\GitHub\\mt_metadata\\mt_metadata\\transfer_functions\\io\\zonge\\metadata\\standards\\stn.json\n",
      "C:\\Users\\peaco\\OneDrive\\Documents\\GitHub\\mt_metadata\\mt_metadata\\transfer_functions\\io\\zonge\\metadata\\standards\\survey.json\n",
      "C:\\Users\\peaco\\OneDrive\\Documents\\GitHub\\mt_metadata\\mt_metadata\\transfer_functions\\io\\zonge\\metadata\\standards\\tx.json\n",
      "C:\\Users\\peaco\\OneDrive\\Documents\\GitHub\\mt_metadata\\mt_metadata\\transfer_functions\\io\\zonge\\metadata\\standards\\unit.json\n",
      "C:\\Users\\peaco\\OneDrive\\Documents\\GitHub\\mt_metadata\\mt_metadata\\transfer_functions\\processing\\aurora\\standards\\band.json\n",
      "C:\\Users\\peaco\\OneDrive\\Documents\\GitHub\\mt_metadata\\mt_metadata\\transfer_functions\\processing\\aurora\\standards\\channel.json\n",
      "C:\\Users\\peaco\\OneDrive\\Documents\\GitHub\\mt_metadata\\mt_metadata\\transfer_functions\\processing\\aurora\\standards\\channel_nomenclature.json\n",
      "C:\\Users\\peaco\\OneDrive\\Documents\\GitHub\\mt_metadata\\mt_metadata\\transfer_functions\\processing\\aurora\\standards\\channel_nomenclatures.json\n"
     ]
    },
    {
     "ename": "KeyError",
     "evalue": "'style'",
     "output_type": "error",
     "traceback": [
      "\u001b[1;31m---------------------------------------------------------------------------\u001b[0m",
      "\u001b[1;31mKeyError\u001b[0m                                  Traceback (most recent call last)",
      "Cell \u001b[1;32mIn[3], line 7\u001b[0m\n\u001b[0;32m      5\u001b[0m     \u001b[38;5;28;01mcontinue\u001b[39;00m\n\u001b[0;32m      6\u001b[0m \u001b[38;5;28mprint\u001b[39m(old_file)\n\u001b[1;32m----> 7\u001b[0m new_files\u001b[38;5;241m.\u001b[39mappend(\u001b[43mconverters\u001b[49m\u001b[38;5;241;43m.\u001b[39;49m\u001b[43mto_json_schema\u001b[49m\u001b[43m(\u001b[49m\u001b[43mold_file\u001b[49m\u001b[43m)\u001b[49m)\n",
      "File \u001b[1;32m~\\OneDrive\\Documents\\GitHub\\mt_metadata\\mt_metadata\\utils\\converters.py:186\u001b[0m, in \u001b[0;36mto_json_schema\u001b[1;34m(filename)\u001b[0m\n\u001b[0;32m    184\u001b[0m \u001b[38;5;28;01mfor\u001b[39;00m key, value \u001b[38;5;129;01min\u001b[39;00m old\u001b[38;5;241m.\u001b[39mitems():\n\u001b[0;32m    185\u001b[0m     new[\u001b[38;5;124m\"\u001b[39m\u001b[38;5;124mproperties\u001b[39m\u001b[38;5;124m\"\u001b[39m][key] \u001b[38;5;241m=\u001b[39m {}\n\u001b[1;32m--> 186\u001b[0m     \u001b[38;5;28;01mif\u001b[39;00m \u001b[38;5;124m\"\u001b[39m\u001b[38;5;124mlist\u001b[39m\u001b[38;5;124m\"\u001b[39m \u001b[38;5;129;01min\u001b[39;00m \u001b[43mvalue\u001b[49m\u001b[43m[\u001b[49m\u001b[38;5;124;43m\"\u001b[39;49m\u001b[38;5;124;43mstyle\u001b[39;49m\u001b[38;5;124;43m\"\u001b[39;49m\u001b[43m]\u001b[49m:\n\u001b[0;32m    187\u001b[0m         new[\u001b[38;5;124m\"\u001b[39m\u001b[38;5;124mproperties\u001b[39m\u001b[38;5;124m\"\u001b[39m][key][\u001b[38;5;124m\"\u001b[39m\u001b[38;5;124mtype\u001b[39m\u001b[38;5;124m\"\u001b[39m] \u001b[38;5;241m=\u001b[39m \u001b[38;5;124m\"\u001b[39m\u001b[38;5;124marray\u001b[39m\u001b[38;5;124m\"\u001b[39m\n\u001b[0;32m    188\u001b[0m         new[\u001b[38;5;124m\"\u001b[39m\u001b[38;5;124mproperties\u001b[39m\u001b[38;5;124m\"\u001b[39m][key][\u001b[38;5;124m\"\u001b[39m\u001b[38;5;124mdefault\u001b[39m\u001b[38;5;124m\"\u001b[39m] \u001b[38;5;241m=\u001b[39m []\n",
      "\u001b[1;31mKeyError\u001b[0m: 'style'"
     ]
    }
   ],
   "source": [
    "new_files = []\n",
    "# Convert all JSON files in the mt_metadata directory to JSON schema\n",
    "for old_file in mt_metadata_path.rglob(\"*.json\"):\n",
    "    if \"schema\" in old_file.name:\n",
    "        continue\n",
    "    try:\n",
    "        new_files.append(converters.to_json_schema(old_file))\n",
    "    except Exception as error:\n",
    "        print(f\"Error converting {old_file}: {error}\")"
   ]
  },
  {
   "cell_type": "code",
   "execution_count": null,
   "metadata": {},
   "outputs": [],
   "source": []
  }
 ],
 "metadata": {
  "kernelspec": {
   "display_name": "py311",
   "language": "python",
   "name": "python3"
  },
  "language_info": {
   "codemirror_mode": {
    "name": "ipython",
    "version": 3
   },
   "file_extension": ".py",
   "mimetype": "text/x-python",
   "name": "python",
   "nbconvert_exporter": "python",
   "pygments_lexer": "ipython3",
   "version": "3.11.11"
  }
 },
 "nbformat": 4,
 "nbformat_minor": 2
}
