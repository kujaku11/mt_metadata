{
 "cells": [
  {
   "cell_type": "markdown",
   "metadata": {},
   "source": [
    "# Migrating to Pydantic\n",
    "\n",
    "It makes sense to migrate to a well supported package for handling metadata, like `Pydantic`.  \n",
    "\n",
    "This will also remove the costly step of reading the JSON files each time an object is initiated and weird things that happen when you set `_attr_dict`.  \n",
    "\n",
    "Steps:\n",
    "\n",
    "1. Convert existing JSON to JSON Schema files and move to `mt_metadata.mt_metadata.standards` folder for reference later.\n",
    "2. Convert the JSON Schema files to `pydantic.BaseModel` objects using `datamodel-code-generator`\n",
    "\n",
    "## 1. Convert existing JSON\n",
    "\n",
    "This is relatively straight forward just a simple mapping and inclusion of some other things.  The mapping is being done in `mt_metadata.utils.converters.to_json_schema`.\n",
    "\n",
    "## 2. Convert JSON Schema to pydantic.BaseModel\n",
    "\n",
    "This is tougher.  For now use `datamodel-code-generator`.\n",
    "\n",
    "```\n",
    "datamodel-codegen.exe --input .\\person_schema.json --input-file-type jsonschema --field-constraints --formatters black --use-annotated --output person_model.py\n",
    "```"
   ]
  },
  {
   "cell_type": "code",
   "execution_count": null,
   "metadata": {},
   "outputs": [],
   "source": [
    "from typing import Literal, Optional, Annotated\n",
    "from pydantic import BaseModel, Field, ConfigDict\n",
    "import json"
   ]
  },
  {
   "cell_type": "code",
   "execution_count": 2,
   "metadata": {},
   "outputs": [],
   "source": [
    "def custom_docstring():\n",
    "    def decorator(cls):\n",
    "        cls.__doc__ = cls.model_json_schema()[\"properties\"]\n",
    "        return cls\n",
    "    return decorator\n",
    "\n",
    "# @custom_docstring()\n",
    "# class Order(BaseModel):\n",
    "#     order_id: int\n",
    "#     amount: float\n",
    "\n",
    "# print(Order.__doc__)"
   ]
  },
  {
   "cell_type": "code",
   "execution_count": null,
   "metadata": {},
   "outputs": [],
   "source": [
    "class DocPreservingModelMetaclass(ModelMetaclass):\n",
    "     def __new__(mcs, name, bases, namespace, **kwargs):\n",
    "         doc = namespace.pop('__doc__', None)\n",
    "         cls = super().__new__(mcs, name, bases, namespace, **kwargs)\n",
    "         cls.__doc__ = doc\n",
    "         return cls"
   ]
  },
  {
   "cell_type": "code",
   "execution_count": null,
   "metadata": {},
   "outputs": [],
   "source": [
    "class Dipole(BaseModel):\n",
    "    model_config = ConfigDict(validate_assignment=True, use_attribute_docstrings=True)\n",
    "\n",
    "    length: float = Field(\n",
    "        default=0, \n",
    "        description=\"dipole length\", \n",
    "        examples=10,\n",
    "        required=True,\n",
    "        json_schema_extra={\"units\": \"m\", \"required\": True},\n",
    "    )\n",
    "    azimuth: float = Field(\n",
    "        default=0,\n",
    "        description=\"measurement azimuth clockwise positive from north\",\n",
    "        examples=36,\n",
    "        json_schema_extra={\"units\": \"degrees\"},\n",
    "    )\n",
    "\n",
    "\n",
    "\n",
    "class EX(BaseModel):\n",
    "    \"\"\"\n",
    "    EX\n",
    "    \"\"\"\n",
    "\n",
    "    model_config = ConfigDict(validate_assignment=True, use_attribute_docstrings=True)\n",
    "\n",
    "    type: Optional[str] = Field(\n",
    "        default=\"\", \n",
    "        description=\"name of person\", \n",
    "        examples=\"ann\",\n",
    "        required=True,\n",
    "    )\n",
    "    name: str = Field(\n",
    "        default=\"EX\",\n",
    "        description=\"The name of the EX.\",\n",
    "        title=\"Name\",\n",
    "    )\n",
    "    description: str = Field(\n",
    "        default=\"a\",\n",
    "        description=\"A brief description of the EX.\",\n",
    "        title=\"Description\",\n",
    "    )\n",
    "\n",
    "    dipole: Dipole = Dipole()\n",
    "\n",
    "    #__doc__ = json.dumps(EX().model_dump_json(), indent=4)\n",
    "\n",
    "    @property\n",
    "    def other(self):\n",
    "        return 10\n",
    "\n",
    "    def __pydantic_init_subclass__(cls) -> None:\n",
    "        cls.__doc__ = cls.model_json_schema()\n",
    "\n",
    "    def __str__(self):\n",
    "        return json.dumps(self.model_dump_json(), indent=4)\n",
    "    \n",
    "    def __eq__(self, other):\n",
    "        if isinstance(other, EX):\n",
    "            return self.model_dump() == other.model_dump()\n",
    "        return False"
   ]
  },
  {
   "cell_type": "code",
   "execution_count": 49,
   "metadata": {},
   "outputs": [],
   "source": [
    "a = EX(name=\"a\")\n",
    "b = EX(name=\"a\", description=\"new\")\n"
   ]
  },
  {
   "cell_type": "code",
   "execution_count": 50,
   "metadata": {},
   "outputs": [],
   "source": [
    "\n",
    "c = a.model_copy()\n"
   ]
  },
  {
   "cell_type": "code",
   "execution_count": 55,
   "metadata": {},
   "outputs": [
    {
     "data": {
      "text/plain": [
       "['description', 'dipole', 'name', 'type_']"
      ]
     },
     "execution_count": 55,
     "metadata": {},
     "output_type": "execute_result"
    }
   ],
   "source": [
    "sorted(c.model_fields.keys())"
   ]
  },
  {
   "cell_type": "code",
   "execution_count": 66,
   "metadata": {},
   "outputs": [],
   "source": [
    "f = c.dipole.model_fields[\"length\"]\n"
   ]
  },
  {
   "cell_type": "code",
   "execution_count": 70,
   "metadata": {},
   "outputs": [
    {
     "data": {
      "text/plain": [
       "False"
      ]
     },
     "execution_count": 70,
     "metadata": {},
     "output_type": "execute_result"
    }
   ],
   "source": [
    "f.is_required()"
   ]
  },
  {
   "cell_type": "code",
   "execution_count": 26,
   "metadata": {},
   "outputs": [],
   "source": [
    "with open(r\"c:\\Users\\peaco\\OneDrive\\Documents\\GitHub\\mt_metadata\\examples\\notebooks\\person_schema.json\", \"w\") as fid:\n",
    "    json.dump(a.model_json_schema(), fid, indent=4)"
   ]
  },
  {
   "cell_type": "code",
   "execution_count": 25,
   "metadata": {},
   "outputs": [],
   "source": [
    "with open(r\"c:\\Users\\peaco\\OneDrive\\Documents\\GitHub\\mt_metadata\\mt_metadata\\timeseries\\standards\\person.json\", \"r\") as fid:\n",
    "    d = json.load(fid)"
   ]
  },
  {
   "cell_type": "code",
   "execution_count": null,
   "metadata": {},
   "outputs": [],
   "source": [
    "\n",
    "def convert_to_json_schema(old, object_name):\n",
    "    new = {\"title\": object_name}\n",
    "    new[\"type\"] = \"object\"\n",
    "    new[\"properties\"] = {}\n",
    "    new[\"required\"] = []\n",
    "    new[\"description\"] = object_name\n",
    "    for key, value in old.items():\n",
    "        new[\"properties\"][key] = {}\n",
    "        new[\"properties\"][key][\"type\"] = value[\"type\"]\n",
    "        new[\"properties\"][key][\"description\"] = value[\"description\"]\n",
    "        new[\"properties\"][key][\"title\"] = key\n",
    "        new[\"properties\"][key][\"examples\"] = value[\"example\"]\n",
    "        new[\"properties\"][key][\"default\"] = value[\"default\"]\n",
    "        if value[\"required\"]:\n",
    "            new[\"required\"].append(key)\n",
    "        # need to sort out string formats\n",
    "    return new\n",
    "\n"
   ]
  },
  {
   "cell_type": "code",
   "execution_count": 35,
   "metadata": {},
   "outputs": [],
   "source": [
    "nd = convert_to_json_schema(d, \"person\")"
   ]
  },
  {
   "cell_type": "code",
   "execution_count": 37,
   "metadata": {},
   "outputs": [],
   "source": [
    "with open(r\"c:\\Users\\peaco\\OneDrive\\Documents\\GitHub\\mt_metadata\\examples\\notebooks\\person_schema.json\", \"w\") as fid:\n",
    "    json.dump(nd, fid, indent=4)"
   ]
  },
  {
   "cell_type": "code",
   "execution_count": 1,
   "metadata": {},
   "outputs": [],
   "source": [
    "from mt_metadata.timeseries.person_test import Person"
   ]
  },
  {
   "cell_type": "code",
   "execution_count": 3,
   "metadata": {},
   "outputs": [],
   "source": [
    "p = Person(name=\"steve\", time=\"1980-01-01T00:00:00\")"
   ]
  },
  {
   "cell_type": "code",
   "execution_count": 5,
   "metadata": {},
   "outputs": [],
   "source": [
    "p.time = \"2020-01-01 00:00:00\""
   ]
  },
  {
   "cell_type": "code",
   "execution_count": 9,
   "metadata": {},
   "outputs": [
    {
     "data": {
      "text/plain": [
       "'Persons name, should be full first and last name.'"
      ]
     },
     "execution_count": 9,
     "metadata": {},
     "output_type": "execute_result"
    }
   ],
   "source": [
    "p.model_fields[\"name\"].description"
   ]
  },
  {
   "cell_type": "markdown",
   "metadata": {},
   "source": []
  }
 ],
 "metadata": {
  "kernelspec": {
   "display_name": "py311",
   "language": "python",
   "name": "python3"
  },
  "language_info": {
   "codemirror_mode": {
    "name": "ipython",
    "version": 3
   },
   "file_extension": ".py",
   "mimetype": "text/x-python",
   "name": "python",
   "nbconvert_exporter": "python",
   "pygments_lexer": "ipython3",
   "version": "3.11.11"
  }
 },
 "nbformat": 4,
 "nbformat_minor": 2
}
