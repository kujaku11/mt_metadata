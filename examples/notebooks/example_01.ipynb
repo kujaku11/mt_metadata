{
 "cells": [
  {
   "cell_type": "markdown",
   "id": "71c67c76-ab19-476f-aa8f-70c5a0b46042",
   "metadata": {},
   "source": [
    "# Example 1\n",
    "This is the example code from Figure 3 in Peacock, J.R. Kappler, K, Heagy, L., Ronan, T., Kelbert, A., Frassetto, A. (2022) MTH5: an archive and exchangeable data format for magnetotelluric time series data, *Computers & Geoscience*, in review."
   ]
  },
  {
   "cell_type": "code",
   "execution_count": 4,
   "id": "1ad07793-7f00-49fd-8730-3e25d4824e36",
   "metadata": {},
   "outputs": [],
   "source": [
    "from mt_metadata.common import StationLocation"
   ]
  },
  {
   "cell_type": "code",
   "execution_count": 6,
   "id": "1146d648-2f5c-4185-b467-ccc4a909c2f2",
   "metadata": {},
   "outputs": [
    {
     "data": {
      "text/plain": [
       "['datum',\n",
       " 'declination.comments.author',\n",
       " 'declination.comments.time_stamp',\n",
       " 'declination.comments.value',\n",
       " 'declination.epoch',\n",
       " 'declination.model',\n",
       " 'declination.value',\n",
       " 'elevation',\n",
       " 'elevation_uncertainty',\n",
       " 'geographic_location.country',\n",
       " 'geographic_location.county',\n",
       " 'geographic_location.parcel',\n",
       " 'geographic_location.quarter',\n",
       " 'geographic_location.section',\n",
       " 'geographic_location.state',\n",
       " 'geographic_location.township',\n",
       " 'latitude',\n",
       " 'latitude_uncertainty',\n",
       " 'longitude',\n",
       " 'longitude_uncertainty',\n",
       " 'x',\n",
       " 'x2',\n",
       " 'x_uncertainty',\n",
       " 'y',\n",
       " 'y2',\n",
       " 'y_uncertainty',\n",
       " 'z',\n",
       " 'z2',\n",
       " 'z_uncertainty']"
      ]
     },
     "execution_count": 6,
     "metadata": {},
     "output_type": "execute_result"
    }
   ],
   "source": [
    "example_spot = StationLocation()\n",
    "example_spot.get_attribute_list()"
   ]
  },
  {
   "cell_type": "code",
   "execution_count": 7,
   "id": "0d18da36-1f7c-42e7-b834-b58a90b5ffe9",
   "metadata": {},
   "outputs": [
    {
     "name": "stdout",
     "output_type": "stream",
     "text": [
      "latitude:\n",
      "\tannotation: float | None\n",
      "\tdefault: 0.0\n",
      "\texamples: 12.324\n",
      "\tdescription: Latitude of the location.\n",
      "\tunits: degrees\n",
      "\trequired: False\n"
     ]
    }
   ],
   "source": [
    "example_spot.attribute_information(\"latitude\")"
   ]
  },
  {
   "cell_type": "code",
   "execution_count": 8,
   "id": "2a93666f-4dce-48a2-b429-f41b1d0d9a1c",
   "metadata": {},
   "outputs": [
    {
     "data": {
      "text/plain": [
       "40.38611111111111"
      ]
     },
     "execution_count": 8,
     "metadata": {},
     "output_type": "execute_result"
    }
   ],
   "source": [
    "example_spot.latitude = \"40:23:10\"\n",
    "example_spot.latitude"
   ]
  },
  {
   "cell_type": "markdown",
   "id": "aaac26b4",
   "metadata": {},
   "source": [
    "## Setting Attributes from dot separated name\n",
    "\n",
    "### Deprecated way of setting attributes\n",
    "\n",
    "For versions of `mt-metadata < 0.4`, this was the way to set an attribute from a dot separated name.   In versions >= 0.4 this will raise a deprecation warning to notify users to use the new way of `update_attribute`. "
   ]
  },
  {
   "cell_type": "code",
   "execution_count": 10,
   "id": "f8e9693b",
   "metadata": {},
   "outputs": [
    {
     "name": "stderr",
     "output_type": "stream",
     "text": [
      "C:\\Users\\jpeacock\\AppData\\Local\\Temp\\1\\ipykernel_21300\\1118233564.py:1: DeprecationWarning: set_attr_from_name will be deprecated in the future. Use update_attribute.\n",
      "  example_spot.set_attr_from_name(\"declination.value\", 12.5)\n"
     ]
    }
   ],
   "source": [
    "\n",
    "example_spot.set_attr_from_name(\"declination.value\", 12.5)"
   ]
  },
  {
   "cell_type": "markdown",
   "id": "b2f995e8",
   "metadata": {},
   "source": [
    "### New method\n",
    "\n",
    "`update_attribute` replaces `set_attr_from_name` but is used in the same way."
   ]
  },
  {
   "cell_type": "code",
   "execution_count": 11,
   "id": "8c62e2be-e75a-4a27-9e60-a6aa1e57f90f",
   "metadata": {},
   "outputs": [
    {
     "data": {
      "text/plain": [
       "-12.5"
      ]
     },
     "execution_count": 11,
     "metadata": {},
     "output_type": "execute_result"
    }
   ],
   "source": [
    "example_spot.update_attribute(\"declination.value\", -12.5)\n",
    "example_spot.declination.value"
   ]
  },
  {
   "cell_type": "markdown",
   "id": "e7d5073e-9c53-4c22-a075-0ce3d4813f8c",
   "metadata": {},
   "source": [
    "## JSON\n",
    "\n",
    "We can update the metadata from a JSON string or file, or output the data to a json string"
   ]
  },
  {
   "cell_type": "code",
   "execution_count": 12,
   "id": "3c14e001-d1fd-41fe-bc78-975313a52698",
   "metadata": {},
   "outputs": [],
   "source": [
    "spot_json = '{\"location\": {\"declination.model\": \"IGRF\", \"declination.value\": -10.5, \"elevation\": 150.0, \"latitude\": 32.5, \"longitude\": 110.0}}'"
   ]
  },
  {
   "cell_type": "code",
   "execution_count": 13,
   "id": "0ce038cc-3183-46d0-b61e-8df29ac0fa9e",
   "metadata": {},
   "outputs": [
    {
     "name": "stdout",
     "output_type": "stream",
     "text": [
      "{\n",
      "    \"station_location\": {\n",
      "        \"datum\": \"WGS 84\",\n",
      "        \"declination.model\": \"IGRF\",\n",
      "        \"declination.value\": -10.5,\n",
      "        \"elevation\": 150.0,\n",
      "        \"latitude\": 32.5,\n",
      "        \"longitude\": 110.0\n",
      "    }\n",
      "}\n"
     ]
    }
   ],
   "source": [
    "example_spot.from_json(spot_json)\n",
    "print(example_spot.to_json())"
   ]
  },
  {
   "cell_type": "markdown",
   "id": "a3e1d929-e400-4676-beeb-7510f446bc92",
   "metadata": {},
   "source": [
    "## XML\n",
    "\n",
    "We can update the metadata from an XML element or output to an XML element"
   ]
  },
  {
   "cell_type": "code",
   "execution_count": 14,
   "id": "8dc5c3a8-f0ae-4917-ace8-0ffafafa968d",
   "metadata": {},
   "outputs": [
    {
     "name": "stdout",
     "output_type": "stream",
     "text": [
      "<?xml version=\"1.0\" encoding=\"UTF-8\"?>\n",
      "<station_location>\n",
      "    <datum>WGS 84</datum>\n",
      "    <declination>\n",
      "        <model>IGRF</model>\n",
      "        <value>-10.5</value>\n",
      "    </declination>\n",
      "    <elevation>150.0</elevation>\n",
      "    <latitude>32.5</latitude>\n",
      "    <longitude>110.0</longitude>\n",
      "</station_location>\n",
      "\n"
     ]
    }
   ],
   "source": [
    "print(example_spot.to_xml(string=True))"
   ]
  },
  {
   "cell_type": "code",
   "execution_count": 15,
   "id": "1d00cf10-1f01-4e8d-9529-90fc7bc9970b",
   "metadata": {},
   "outputs": [],
   "source": [
    "spot_xml = example_spot.to_xml()"
   ]
  },
  {
   "cell_type": "code",
   "execution_count": 16,
   "id": "e40e7686-59d1-452a-be8c-58f2404c80e6",
   "metadata": {},
   "outputs": [],
   "source": [
    "spot_xml.find(\"latitude\").text = \"10\""
   ]
  },
  {
   "cell_type": "code",
   "execution_count": 17,
   "id": "c4153043-009c-4ae8-b8c0-da34ef010dd8",
   "metadata": {},
   "outputs": [
    {
     "name": "stdout",
     "output_type": "stream",
     "text": [
      "<?xml version=\"1.0\" encoding=\"UTF-8\"?>\n",
      "<station_location>\n",
      "    <datum>WGS 84</datum>\n",
      "    <declination>\n",
      "        <model>IGRF</model>\n",
      "        <value>-10.5</value>\n",
      "    </declination>\n",
      "    <elevation>150.0</elevation>\n",
      "    <latitude>10.0</latitude>\n",
      "    <longitude>110.0</longitude>\n",
      "</station_location>\n",
      "\n"
     ]
    }
   ],
   "source": [
    "example_spot.from_xml(spot_xml)\n",
    "print(example_spot.to_xml(string=True))"
   ]
  },
  {
   "cell_type": "code",
   "execution_count": null,
   "id": "911725ff-8423-4c00-a345-33a45bb1e9c8",
   "metadata": {},
   "outputs": [],
   "source": []
  }
 ],
 "metadata": {
  "kernelspec": {
   "display_name": "py311",
   "language": "python",
   "name": "python3"
  },
  "language_info": {
   "codemirror_mode": {
    "name": "ipython",
    "version": 3
   },
   "file_extension": ".py",
   "mimetype": "text/x-python",
   "name": "python",
   "nbconvert_exporter": "python",
   "pygments_lexer": "ipython3",
   "version": "3.11.11"
  }
 },
 "nbformat": 4,
 "nbformat_minor": 5
}
