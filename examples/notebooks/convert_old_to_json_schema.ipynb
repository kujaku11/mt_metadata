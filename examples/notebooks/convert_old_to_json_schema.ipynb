{
 "cells": [
  {
   "cell_type": "markdown",
   "metadata": {},
   "source": [
    "# Convert Old To JSON Schema\n",
    "\n",
    "This notebook demonstrates how to convert old JSON style files to a JSON Schema file.  The conversion is relatively simple, but necessary."
   ]
  },
  {
   "cell_type": "code",
   "execution_count": 1,
   "metadata": {},
   "outputs": [],
   "source": [
    "from pathlib import Path\n",
    "from mt_metadata.utils import converters\n",
    "\n",
    "%load_ext autoreload\n",
    "%autoreload 2"
   ]
  },
  {
   "cell_type": "markdown",
   "metadata": {},
   "source": [
    "## Convert old JSON to JSON Schema"
   ]
  },
  {
   "cell_type": "code",
   "execution_count": 2,
   "metadata": {},
   "outputs": [],
   "source": [
    "mt_metadata_path = Path(r\"c:\\Users\\peaco\\OneDrive\\Documents\\GitHub\\mt_metadata\\mt_metadata\\processing\")"
   ]
  },
  {
   "cell_type": "code",
   "execution_count": 14,
   "metadata": {},
   "outputs": [],
   "source": [
    "new_files = []\n",
    "# Convert all JSON files in the mt_metadata directory to JSON schema\n",
    "for old_file in mt_metadata_path.rglob(\"*.json\"):\n",
    "    if \"schema\" in old_file.name:\n",
    "        continue\n",
    "    try:\n",
    "        new_files.append(converters.to_json_schema(old_file))\n",
    "    except Exception as error:\n",
    "        print(f\"Error converting {old_file}: {error}\")"
   ]
  },
  {
   "cell_type": "markdown",
   "metadata": {},
   "source": [
    "## Convert new JSON Schema to Objects"
   ]
  },
  {
   "cell_type": "code",
   "execution_count": 15,
   "metadata": {},
   "outputs": [],
   "source": [
    "model_path = Path(r\"c:\\Users\\peaco\\OneDrive\\Documents\\GitHub\\mt_metadata\\mt_metadata\\standards\\processing\")"
   ]
  },
  {
   "cell_type": "code",
   "execution_count": 16,
   "metadata": {},
   "outputs": [
    {
     "name": "stdout",
     "output_type": "stream",
     "text": [
      "\u001b[33m\u001b[1m2025-08-17T16:30:10.262143-0700 | WARNING | mt_metadata.utils.converters | clean_and_format_code | C:\\Users\\peaco\\OneDrive\\Documents\\GitHub\\mt_metadata\\mt_metadata\\processing\\short_time_fourier_transform_basemodel.py Error formatting code using black: Cannot parse: 19:0:      = ''\u001b[0m\n",
      "adding units to C:\\Users\\peaco\\OneDrive\\Documents\\GitHub\\mt_metadata\\mt_metadata\\processing\\fourier_coefficients\\fc_channel_basemodel.py\n"
     ]
    }
   ],
   "source": [
    "for fn in model_path.rglob(\"*.json\"):\n",
    "    try:\n",
    "        converters.generate_pydantic_basemodel(fn)\n",
    "    except Exception as error:\n",
    "        print(f\"FAILED: Could not convert {fn.name}. \\n\\t{error}\")\n"
   ]
  },
  {
   "cell_type": "code",
   "execution_count": 17,
   "metadata": {},
   "outputs": [
    {
     "data": {
      "text/plain": [
       "True"
      ]
     },
     "execution_count": 17,
     "metadata": {},
     "output_type": "execute_result"
    }
   ],
   "source": [
    "model_path.exists()"
   ]
  },
  {
   "cell_type": "code",
   "execution_count": null,
   "metadata": {},
   "outputs": [],
   "source": []
  }
 ],
 "metadata": {
  "kernelspec": {
   "display_name": "py311",
   "language": "python",
   "name": "python3"
  },
  "language_info": {
   "codemirror_mode": {
    "name": "ipython",
    "version": 3
   },
   "file_extension": ".py",
   "mimetype": "text/x-python",
   "name": "python",
   "nbconvert_exporter": "python",
   "pygments_lexer": "ipython3",
   "version": "3.11.11"
  }
 },
 "nbformat": 4,
 "nbformat_minor": 2
}
