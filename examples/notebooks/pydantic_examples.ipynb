{
 "cells": [
  {
   "cell_type": "markdown",
   "metadata": {},
   "source": [
    "# Migrating to Pydantic\n",
    "\n",
    "It makes sense to migrate to a well supported package for handling metadata, like `Pydantic`.  \n",
    "\n",
    "This will also remove the costly step of reading the JSON files each time an object is initiated and weird things that happen when you set `_attr_dict`.  \n",
    "\n",
    "Steps:\n",
    "\n",
    "1. Convert existing JSON to JSON Schema files and move to `mt_metadata.mt_metadata.standards` folder for reference later.\n",
    "2. Convert the JSON Schema files to `pydantic.BaseModel` objects using `datamodel-code-generator`\n",
    "\n",
    "## 1. Convert existing JSON\n",
    "\n",
    "This is relatively straight forward just a simple mapping and inclusion of some other things.  The mapping is being done in `mt_metadata.utils.converters.to_json_schema`.\n",
    "\n",
    "## 2. Convert JSON Schema to pydantic.BaseModel\n",
    "\n",
    "This is tougher.  For now use `datamodel-code-generator`.\n",
    "\n",
    "```\n",
    "datamodel-codegen.exe --input .\\person_schema.json --input-file-type jsonschema --field-constraints --formatters black --use-annotated --output person_model.py\n",
    "```"
   ]
  },
  {
   "cell_type": "code",
   "execution_count": 5,
   "metadata": {},
   "outputs": [],
   "source": [
    "from typing import Literal, Optional, Annotated, List\n",
    "from pydantic import BaseModel, Field, ConfigDict, create_model\n",
    "from pydantic.fields import PrivateAttr, FieldInfo\n",
    "import json\n",
    "\n",
    "from mt_metadata.utils.mttime import MTime"
   ]
  },
  {
   "cell_type": "code",
   "execution_count": 2,
   "metadata": {},
   "outputs": [],
   "source": [
    "def custom_docstring():\n",
    "    def decorator(cls):\n",
    "        cls.__doc__ = cls.model_json_schema()[\"properties\"]\n",
    "        return cls\n",
    "    return decorator\n",
    "\n",
    "# @custom_docstring()\n",
    "# class Order(BaseModel):\n",
    "#     order_id: int\n",
    "#     amount: float\n",
    "\n",
    "# print(Order.__doc__)"
   ]
  },
  {
   "cell_type": "code",
   "execution_count": null,
   "metadata": {},
   "outputs": [],
   "source": [
    "class DocPreservingModelMetaclass(ModelMetaclass):\n",
    "     def __new__(mcs, name, bases, namespace, **kwargs):\n",
    "         doc = namespace.pop('__doc__', None)\n",
    "         cls = super().__new__(mcs, name, bases, namespace, **kwargs)\n",
    "         cls.__doc__ = doc\n",
    "         return cls"
   ]
  },
  {
   "cell_type": "code",
   "execution_count": null,
   "metadata": {},
   "outputs": [],
   "source": [
    "def get_all_fields(model: BaseModel):  # -> Dict[str, Any]:\n",
    "    fields = {}\n",
    "    for field_name, field_value in model.model_fields.items():\n",
    "        if hasattr(field_value.annotation, \"model_fields\"):\n",
    "            print(field_value)\n",
    "            fields[field_name] = field_value.annotation().all_attributes()\n",
    "        else:\n",
    "            fields[field_name] = field_value\n",
    "\n",
    "    return fields\n",
    "\n",
    "\n",
    "class Dipole(BaseModel):\n",
    "    model_config = ConfigDict(validate_assignment=True, use_attribute_docstrings=True)\n",
    "\n",
    "    length: float = Field(\n",
    "        default=0,\n",
    "        description=\"dipole length\",\n",
    "        examples=10,\n",
    "        required=True,\n",
    "        json_schema_extra={\"units\": \"m\", \"required\": True},\n",
    "    )\n",
    "    azimuth: float = Field(\n",
    "        default=0,\n",
    "        description=\"measurement azimuth clockwise positive from north\",\n",
    "        examples=36,\n",
    "        json_schema_extra={\"units\": \"degrees\"},\n",
    "    )\n",
    "\n",
    "    def all_attributes(self):\n",
    "        return get_all_fields(self)\n",
    "\n",
    "\n",
    "class EX(BaseModel):\n",
    "    \"\"\"\n",
    "\n",
    "\n",
    "    EX\n",
    "    \"\"\"\n",
    "    model_config = ConfigDict(\n",
    "        validate_assignment=True, use_attribute_docstrings=True, extra=\"allow\"\n",
    "    )\n",
    "\n",
    "    _default_keys: List[str] = PrivateAttr(\n",
    "        default=[\"title\", \"annotation\", \"default\", \"examples\", \"description\"],\n",
    "    )\n",
    "    _json_extras: List[str] = [\"units\"]\n",
    "\n",
    "    start: Optional[MTime] = Field(\n",
    "        default=None,\n",
    "        description=\"start time of the EX\",\n",
    "        examples=\"2023-10-01T00:00:00Z\",\n",
    "        required=True,\n",
    "    )\n",
    "\n",
    "    end: Optional[MTime] = Field(\n",
    "        default=None,\n",
    "        description=\"end time of the EX\",\n",
    "        examples=\"2023-10-01T00:00:00Z\",\n",
    "        required=True,\n",
    "    )\n",
    "\n",
    "    type: Optional[str] = Field(\n",
    "\n",
    "        default_factory=\"\",\n",
    "        description=\"name of person\",\n",
    "\n",
    "        examples=\"ann\",\n",
    "        required=True,\n",
    "    )\n",
    "\n",
    "\n",
    "    name: str = Field(\n",
    "\n",
    "        default=\"EX\",\n",
    "\n",
    "        description=\"The name of the EX.\",\n",
    "\n",
    "        title=\"Name\",\n",
    "    )\n",
    "\n",
    "\n",
    "    description: str = Field(\n",
    "        default=\"a\",\n",
    "\n",
    "        description=\"A brief description of the EX.\",\n",
    "\n",
    "        title=\"Description\",\n",
    "    )\n",
    "\n",
    "    dipole: Dipole = Dipole()\n",
    "\n",
    "    # __doc__ = json.dumps(EX().model_dump_json(), indent=4)\n",
    "\n",
    "    @property\n",
    "    def other(self):\n",
    "        return 10\n",
    "\n",
    "    # def __pydantic_init_subclass__(cls) -> None:\n",
    "    #     cls.__doc__ = cls.model_json_schema()\n",
    "\n",
    "    def __str__(self):\n",
    "        return json.dumps(self.model_dump_json(), indent=4)\n",
    "\n",
    "    def __eq__(self, other):\n",
    "        if isinstance(other, EX):\n",
    "            return self.model_dump() == other.model_dump()\n",
    "        return False\n",
    "\n",
    "    def all_attributes(self):\n",
    "        return get_all_fields(self)\n",
    "\n",
    "    # @classmethod\n",
    "    # def get_required_fields(cls: BaseModel, recursive: bool = True):# -> Iterator[str]:\n",
    "    #     for field_name, field_info in cls.model_fields.items():\n",
    "    #         # if not field_info.is_required():\n",
    "    #         #     continue\n",
    "\n",
    "    #         if not recursive or not hasattr(field_type_hint := field_info.annotation, \"model_fields\"):\n",
    "    #             yield field_name\n",
    "    #         else:\n",
    "    #             yield from cls.get_required_fields(field_type_hint, recursive=True)\n",
    "\n",
    "    # def get_all_fields(cls: BaseModel): # -> Dict[str, Any]:\n",
    "    #     fields = {}\n",
    "    #     for field_name, field_value in cls.model_fields.items():\n",
    "    #         if hasattr(field_value.annotation, \"model_fields\"):\n",
    "    #             print(field_value)\n",
    "    #             attr_obj = getattr(cls, field_name)\n",
    "    #             fields[field_name] = attr_obj.get_all_fields()\n",
    "    #         else:\n",
    "    #             fields[field_name] = field_value\n",
    "    #     return fields"
   ]
  },
  {
   "cell_type": "code",
   "execution_count": 62,
   "metadata": {},
   "outputs": [],
   "source": [
    "a = EX(name=\"a\", type=\"a\")\n",
    "b = EX(name=\"a\", description=\"new\", type=\"b\")\n"
   ]
  },
  {
   "cell_type": "code",
   "execution_count": 84,
   "metadata": {},
   "outputs": [
    {
     "ename": "TypeError",
     "evalue": "EX.__pydantic_init_subclass__() missing 1 required positional argument: 'cls'",
     "output_type": "error",
     "traceback": [
      "\u001b[1;31m---------------------------------------------------------------------------\u001b[0m",
      "\u001b[1;31mTypeError\u001b[0m                                 Traceback (most recent call last)",
      "Cell \u001b[1;32mIn[84], line 8\u001b[0m\n\u001b[0;32m      5\u001b[0m f \u001b[38;5;241m=\u001b[39m {k: (v\u001b[38;5;241m.\u001b[39mannotation, v) \u001b[38;5;28;01mfor\u001b[39;00m k, v \u001b[38;5;129;01min\u001b[39;00m d\u001b[38;5;241m.\u001b[39mitems()}\n\u001b[0;32m      6\u001b[0m fields\u001b[38;5;241m.\u001b[39mupdate(f)\n\u001b[1;32m----> 8\u001b[0m new \u001b[38;5;241m=\u001b[39m \u001b[43mcreate_model\u001b[49m\u001b[43m(\u001b[49m\u001b[38;5;124;43m\"\u001b[39;49m\u001b[38;5;124;43mnew_model\u001b[39;49m\u001b[38;5;124;43m\"\u001b[39;49m\u001b[43m,\u001b[49m\u001b[43m \u001b[49m\u001b[43m__base__\u001b[49m\u001b[38;5;241;43m=\u001b[39;49m\u001b[43mEX\u001b[49m\u001b[43m,\u001b[49m\u001b[43m \u001b[49m\u001b[38;5;241;43m*\u001b[39;49m\u001b[38;5;241;43m*\u001b[39;49m\u001b[43mfields\u001b[49m\u001b[43m)\u001b[49m\n",
      "File \u001b[1;32mc:\\Users\\jpeacock\\AppData\\Local\\miniforge3\\envs\\py311\\Lib\\site-packages\\pydantic\\main.py:1678\u001b[0m, in \u001b[0;36mcreate_model\u001b[1;34m(model_name, __config__, __doc__, __base__, __module__, __validators__, __cls_kwargs__, __slots__, **field_definitions)\u001b[0m\n\u001b[0;32m   1675\u001b[0m     ns[\u001b[38;5;124m'\u001b[39m\u001b[38;5;124m__orig_bases__\u001b[39m\u001b[38;5;124m'\u001b[39m] \u001b[38;5;241m=\u001b[39m __base__\n\u001b[0;32m   1676\u001b[0m namespace\u001b[38;5;241m.\u001b[39mupdate(ns)\n\u001b[1;32m-> 1678\u001b[0m \u001b[38;5;28;01mreturn\u001b[39;00m \u001b[43mmeta\u001b[49m\u001b[43m(\u001b[49m\n\u001b[0;32m   1679\u001b[0m \u001b[43m    \u001b[49m\u001b[43mmodel_name\u001b[49m\u001b[43m,\u001b[49m\n\u001b[0;32m   1680\u001b[0m \u001b[43m    \u001b[49m\u001b[43mresolved_bases\u001b[49m\u001b[43m,\u001b[49m\n\u001b[0;32m   1681\u001b[0m \u001b[43m    \u001b[49m\u001b[43mnamespace\u001b[49m\u001b[43m,\u001b[49m\n\u001b[0;32m   1682\u001b[0m \u001b[43m    \u001b[49m\u001b[43m__pydantic_reset_parent_namespace__\u001b[49m\u001b[38;5;241;43m=\u001b[39;49m\u001b[38;5;28;43;01mFalse\u001b[39;49;00m\u001b[43m,\u001b[49m\n\u001b[0;32m   1683\u001b[0m \u001b[43m    \u001b[49m\u001b[43m_create_model_module\u001b[49m\u001b[38;5;241;43m=\u001b[39;49m\u001b[38;5;18;43m__module__\u001b[39;49m\u001b[43m,\u001b[49m\n\u001b[0;32m   1684\u001b[0m \u001b[43m    \u001b[49m\u001b[38;5;241;43m*\u001b[39;49m\u001b[38;5;241;43m*\u001b[39;49m\u001b[43mkwds\u001b[49m\u001b[43m,\u001b[49m\n\u001b[0;32m   1685\u001b[0m \u001b[43m\u001b[49m\u001b[43m)\u001b[49m\n",
      "File \u001b[1;32mc:\\Users\\jpeacock\\AppData\\Local\\miniforge3\\envs\\py311\\Lib\\site-packages\\pydantic\\_internal\\_model_construction.py:244\u001b[0m, in \u001b[0;36mModelMetaclass.__new__\u001b[1;34m(mcs, cls_name, bases, namespace, __pydantic_generic_metadata__, __pydantic_reset_parent_namespace__, _create_model_module, **kwargs)\u001b[0m\n\u001b[0;32m    239\u001b[0m     set_deprecated_descriptors(\u001b[38;5;28mcls\u001b[39m)\n\u001b[0;32m    241\u001b[0m     \u001b[38;5;66;03m# using super(cls, cls) on the next line ensures we only call the parent class's __pydantic_init_subclass__\u001b[39;00m\n\u001b[0;32m    242\u001b[0m     \u001b[38;5;66;03m# I believe the `type: ignore` is only necessary because mypy doesn't realize that this code branch is\u001b[39;00m\n\u001b[0;32m    243\u001b[0m     \u001b[38;5;66;03m# only hit for _proper_ subclasses of BaseModel\u001b[39;00m\n\u001b[1;32m--> 244\u001b[0m     \u001b[38;5;28;43msuper\u001b[39;49m\u001b[43m(\u001b[49m\u001b[38;5;28;43mcls\u001b[39;49m\u001b[43m,\u001b[49m\u001b[43m \u001b[49m\u001b[38;5;28;43mcls\u001b[39;49m\u001b[43m)\u001b[49m\u001b[38;5;241;43m.\u001b[39;49m\u001b[43m__pydantic_init_subclass__\u001b[49m\u001b[43m(\u001b[49m\u001b[38;5;241;43m*\u001b[39;49m\u001b[38;5;241;43m*\u001b[39;49m\u001b[43mkwargs\u001b[49m\u001b[43m)\u001b[49m  \u001b[38;5;66;03m# type: ignore[misc]\u001b[39;00m\n\u001b[0;32m    245\u001b[0m     \u001b[38;5;28;01mreturn\u001b[39;00m \u001b[38;5;28mcls\u001b[39m\n\u001b[0;32m    246\u001b[0m \u001b[38;5;28;01melse\u001b[39;00m:\n\u001b[0;32m    247\u001b[0m     \u001b[38;5;66;03m# These are instance variables, but have been assigned to `NoInitField` to trick the type checker.\u001b[39;00m\n",
      "\u001b[1;31mTypeError\u001b[0m: EX.__pydantic_init_subclass__() missing 1 required positional argument: 'cls'"
     ]
    }
   ],
   "source": [
    "d = a.model_fields\n",
    "d[\"new\"] = FieldInfo(annotation=str, default=\"k\", description=\"new_field\")\n",
    "\n",
    "fields = {}\n",
    "f = {k: (v.annotation, v) for k, v in d.items()}\n",
    "fields.update(f)\n",
    "\n",
    "new = create_model(\"new_model\", __base__=EX, **fields)"
   ]
  },
  {
   "cell_type": "code",
   "execution_count": null,
   "metadata": {},
   "outputs": [
    {
     "data": {
      "text/plain": [
       "{'type': FieldInfo(annotation=Union[str, NoneType], required=False, default_factory=str, description='name of person', examples='ann', json_schema_extra={'required': True}),\n",
       " 'name': FieldInfo(annotation=str, required=False, default='EX', title='Name', description='The name of the EX.'),\n",
       " 'description': FieldInfo(annotation=str, required=False, default='a', title='Description', description='A brief description of the EX.'),\n",
       " 'dipole': FieldInfo(annotation=Dipole, required=False, default=Dipole(length=0, azimuth=0)),\n",
       " 'new': FieldInfo(annotation=str, required=False, default='k', description='new_field')}"
      ]
     },
     "execution_count": 83,
     "metadata": {},
     "output_type": "execute_result"
    }
   ],
   "source": [
    "new"
   ]
  },
  {
   "cell_type": "code",
   "execution_count": 81,
   "metadata": {},
   "outputs": [
    {
     "data": {
      "text/plain": [
       "{'type': (typing.Optional[str],\n",
       "  FieldInfo(annotation=Union[str, NoneType], required=False, default_factory=str, description='name of person', examples='ann', json_schema_extra={'required': True})),\n",
       " 'name': (str,\n",
       "  FieldInfo(annotation=str, required=False, default='EX', title='Name', description='The name of the EX.')),\n",
       " 'description': (str,\n",
       "  FieldInfo(annotation=str, required=False, default='a', title='Description', description='A brief description of the EX.')),\n",
       " 'dipole': (__main__.Dipole,\n",
       "  FieldInfo(annotation=Dipole, required=False, default=Dipole(length=0, azimuth=0))),\n",
       " 'new': (str,\n",
       "  FieldInfo(annotation=str, required=False, default='k', description='new_field'))}"
      ]
     },
     "execution_count": 81,
     "metadata": {},
     "output_type": "execute_result"
    }
   ],
   "source": [
    "fields"
   ]
  },
  {
   "cell_type": "code",
   "execution_count": null,
   "metadata": {},
   "outputs": [],
   "source": []
  },
  {
   "cell_type": "code",
   "execution_count": 68,
   "metadata": {},
   "outputs": [],
   "source": [
    "c = a.model_copy(update={\"new\": Annotated[str,Field(default=\"k\", description=\"new_field\")]})"
   ]
  },
  {
   "cell_type": "code",
   "execution_count": 70,
   "metadata": {},
   "outputs": [
    {
     "data": {
      "text/plain": [
       "typing.Annotated[str, FieldInfo(annotation=NoneType, required=False, default='k', description='new_field')]"
      ]
     },
     "execution_count": 70,
     "metadata": {},
     "output_type": "execute_result"
    }
   ],
   "source": [
    "c.new"
   ]
  },
  {
   "cell_type": "code",
   "execution_count": 52,
   "metadata": {},
   "outputs": [],
   "source": [
    "from mt_metadata.base import helpers"
   ]
  },
  {
   "cell_type": "code",
   "execution_count": 54,
   "metadata": {},
   "outputs": [
    {
     "name": "stdout",
     "output_type": "stream",
     "text": [
      "annotation=Dipole required=False default=Dipole(length=0, azimuth=0)\n"
     ]
    },
    {
     "data": {
      "text/plain": [
       "{'type': FieldInfo(annotation=Union[str, NoneType], required=False, default_factory=str, description='name of person', examples='ann', json_schema_extra={'required': True}),\n",
       " 'name': FieldInfo(annotation=str, required=False, default='EX', title='Name', description='The name of the EX.'),\n",
       " 'description': FieldInfo(annotation=str, required=False, default='a', title='Description', description='A brief description of the EX.'),\n",
       " 'dipole.length': FieldInfo(annotation=float, required=False, default=0, description='dipole length', examples=10, json_schema_extra={'units': 'm', 'required': True}),\n",
       " 'dipole.azimuth': FieldInfo(annotation=float, required=False, default=0, description='measurement azimuth clockwise positive from north', examples=36, json_schema_extra={'units': 'degrees'})}"
      ]
     },
     "execution_count": 54,
     "metadata": {},
     "output_type": "execute_result"
    }
   ],
   "source": [
    "helpers.flatten_dict(a.all_attributes())"
   ]
  },
  {
   "cell_type": "code",
   "execution_count": 60,
   "metadata": {},
   "outputs": [
    {
     "data": {
      "text/plain": [
       "dict"
      ]
     },
     "execution_count": 60,
     "metadata": {},
     "output_type": "execute_result"
    }
   ],
   "source": [
    "type(a.dipole.model_fields[\"length\"].json_schema_extra)\n"
   ]
  },
  {
   "cell_type": "code",
   "execution_count": 39,
   "metadata": {},
   "outputs": [
    {
     "data": {
      "text/plain": [
       "{'$defs': {'Dipole': {'properties': {'length': {'default': 0,\n",
       "     'description': 'dipole length',\n",
       "     'examples': 10,\n",
       "     'required': True,\n",
       "     'title': 'Length',\n",
       "     'type': 'number',\n",
       "     'units': 'm'},\n",
       "    'azimuth': {'default': 0,\n",
       "     'description': 'measurement azimuth clockwise positive from north',\n",
       "     'examples': 36,\n",
       "     'title': 'Azimuth',\n",
       "     'type': 'number',\n",
       "     'units': 'degrees'}},\n",
       "   'title': 'Dipole',\n",
       "   'type': 'object'}},\n",
       " 'description': 'EX',\n",
       " 'properties': {'default_keys': {'default': ['title',\n",
       "    'annotation',\n",
       "    'default',\n",
       "    'examples',\n",
       "    'description'],\n",
       "   'description': 'default keys to look for',\n",
       "   'items': {'type': 'string'},\n",
       "   'title': 'Default Keys',\n",
       "   'type': 'array'},\n",
       "  'type': {'anyOf': [{'type': 'string'}, {'type': 'null'}],\n",
       "   'description': 'name of person',\n",
       "   'examples': 'ann',\n",
       "   'required': True,\n",
       "   'title': 'Type'},\n",
       "  'name': {'default': 'EX',\n",
       "   'description': 'The name of the EX.',\n",
       "   'title': 'Name',\n",
       "   'type': 'string'},\n",
       "  'description': {'default': 'a',\n",
       "   'description': 'A brief description of the EX.',\n",
       "   'title': 'Description',\n",
       "   'type': 'string'},\n",
       "  'dipole': {'$ref': '#/$defs/Dipole',\n",
       "   'default': {'length': 0.0, 'azimuth': 0.0}}},\n",
       " 'required': ['type'],\n",
       " 'title': 'EX',\n",
       " 'type': 'object'}"
      ]
     },
     "execution_count": 39,
     "metadata": {},
     "output_type": "execute_result"
    }
   ],
   "source": [
    "\n",
    "a.model_json_schema()\n"
   ]
  },
  {
   "cell_type": "code",
   "execution_count": 85,
   "metadata": {},
   "outputs": [
    {
     "data": {
      "text/plain": [
       "['description', 'dipole', 'name', 'type']"
      ]
     },
     "execution_count": 85,
     "metadata": {},
     "output_type": "execute_result"
    }
   ],
   "source": [
    "sorted(c.model_fields.keys())"
   ]
  },
  {
   "cell_type": "code",
   "execution_count": 88,
   "metadata": {},
   "outputs": [],
   "source": [
    "f = c.model_fields[\"type\"]\n"
   ]
  },
  {
   "cell_type": "code",
   "execution_count": 92,
   "metadata": {},
   "outputs": [
    {
     "data": {
      "text/plain": [
       "{'type': FieldInfo(annotation=Union[str, NoneType], required=False, default_factory=str, description='name of person', examples='ann', json_schema_extra={'required': True}),\n",
       " 'name': FieldInfo(annotation=str, required=False, default='EX', title='Name', description='The name of the EX.'),\n",
       " 'description': FieldInfo(annotation=str, required=False, default='a', title='Description', description='A brief description of the EX.'),\n",
       " 'dipole': FieldInfo(annotation=Dipole, required=False, default=Dipole(length=0, azimuth=0))}"
      ]
     },
     "execution_count": 92,
     "metadata": {},
     "output_type": "execute_result"
    }
   ],
   "source": [
    "c.model_fields"
   ]
  },
  {
   "cell_type": "code",
   "execution_count": 26,
   "metadata": {},
   "outputs": [],
   "source": [
    "with open(r\"c:\\Users\\peaco\\OneDrive\\Documents\\GitHub\\mt_metadata\\examples\\notebooks\\person_schema.json\", \"w\") as fid:\n",
    "    json.dump(a.model_json_schema(), fid, indent=4)"
   ]
  },
  {
   "cell_type": "code",
   "execution_count": 25,
   "metadata": {},
   "outputs": [],
   "source": [
    "with open(r\"c:\\Users\\peaco\\OneDrive\\Documents\\GitHub\\mt_metadata\\mt_metadata\\timeseries\\standards\\person.json\", \"r\") as fid:\n",
    "    d = json.load(fid)"
   ]
  },
  {
   "cell_type": "code",
   "execution_count": null,
   "metadata": {},
   "outputs": [],
   "source": [
    "\n",
    "def convert_to_json_schema(old, object_name):\n",
    "    new = {\"title\": object_name}\n",
    "    new[\"type\"] = \"object\"\n",
    "    new[\"properties\"] = {}\n",
    "    new[\"required\"] = []\n",
    "    new[\"description\"] = object_name\n",
    "    for key, value in old.items():\n",
    "        new[\"properties\"][key] = {}\n",
    "        new[\"properties\"][key][\"type\"] = value[\"type\"]\n",
    "        new[\"properties\"][key][\"description\"] = value[\"description\"]\n",
    "        new[\"properties\"][key][\"title\"] = key\n",
    "        new[\"properties\"][key][\"examples\"] = value[\"example\"]\n",
    "        new[\"properties\"][key][\"default\"] = value[\"default\"]\n",
    "        if value[\"required\"]:\n",
    "            new[\"required\"].append(key)\n",
    "        # need to sort out string formats\n",
    "    return new\n",
    "\n"
   ]
  },
  {
   "cell_type": "code",
   "execution_count": 35,
   "metadata": {},
   "outputs": [],
   "source": [
    "nd = convert_to_json_schema(d, \"person\")"
   ]
  },
  {
   "cell_type": "code",
   "execution_count": 37,
   "metadata": {},
   "outputs": [],
   "source": [
    "with open(r\"c:\\Users\\peaco\\OneDrive\\Documents\\GitHub\\mt_metadata\\examples\\notebooks\\person_schema.json\", \"w\") as fid:\n",
    "    json.dump(nd, fid, indent=4)"
   ]
  },
  {
   "cell_type": "code",
   "execution_count": 1,
   "metadata": {},
   "outputs": [],
   "source": [
    "from mt_metadata.timeseries.person_test import Person"
   ]
  },
  {
   "cell_type": "code",
   "execution_count": 3,
   "metadata": {},
   "outputs": [],
   "source": [
    "p = Person(name=\"steve\", time=\"1980-01-01T00:00:00\")"
   ]
  },
  {
   "cell_type": "code",
   "execution_count": 5,
   "metadata": {},
   "outputs": [],
   "source": [
    "p.time = \"2020-01-01 00:00:00\""
   ]
  },
  {
   "cell_type": "code",
   "execution_count": 9,
   "metadata": {},
   "outputs": [
    {
     "data": {
      "text/plain": [
       "'Persons name, should be full first and last name.'"
      ]
     },
     "execution_count": 9,
     "metadata": {},
     "output_type": "execute_result"
    }
   ],
   "source": [
    "p.model_fields[\"name\"].description"
   ]
  },
  {
   "cell_type": "code",
   "execution_count": 1,
   "metadata": {},
   "outputs": [],
   "source": [
    "from mt_metadata.utils import converters\n"
   ]
  },
  {
   "cell_type": "code",
   "execution_count": 2,
   "metadata": {},
   "outputs": [],
   "source": [
    "fn = r\"C:\\Users\\peaco\\OneDrive\\Documents\\GitHub\\mt_metadata\\mt_metadata\\standards\\timeseries\\filters\\filter_base.json\""
   ]
  },
  {
   "cell_type": "code",
   "execution_count": 3,
   "metadata": {},
   "outputs": [
    {
     "name": "stdout",
     "output_type": "stream",
     "text": [
      "name: '', \n",
      "comments: None, None\n",
      "type: '', \n",
      "units_in: '', \n",
      "units_out: '', \n",
      "calibration_date: None, None\n",
      "gain: None, 1.0\n",
      "Saved to C:\\Users\\peaco\\OneDrive\\Documents\\GitHub\\mt_metadata\\mt_metadata\\timeseries\\filters\\filter_base_basemodel.py\n"
     ]
    }
   ],
   "source": [
    "cfn = converters.generate_pydantic_basemodel(fn)"
   ]
  },
  {
   "cell_type": "code",
   "execution_count": null,
   "metadata": {},
   "outputs": [],
   "source": []
  },
  {
   "cell_type": "markdown",
   "metadata": {},
   "source": []
  }
 ],
 "metadata": {
  "kernelspec": {
   "display_name": "py311",
   "language": "python",
   "name": "python3"
  },
  "language_info": {
   "codemirror_mode": {
    "name": "ipython",
    "version": 3
   },
   "file_extension": ".py",
   "mimetype": "text/x-python",
   "name": "python",
   "nbconvert_exporter": "python",
   "pygments_lexer": "ipython3",
   "version": "3.11.11"
  }
 },
 "nbformat": 4,
 "nbformat_minor": 2
}
