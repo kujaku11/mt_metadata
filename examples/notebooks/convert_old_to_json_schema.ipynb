{
 "cells": [
  {
   "cell_type": "markdown",
   "metadata": {},
   "source": [
    "# Convert Old To JSON Schema\n",
    "\n",
    "This notebook demonstrates how to convert old JSON style files to a JSON Schema file.  The conversion is relatively simple, but necessary."
   ]
  },
  {
   "cell_type": "code",
   "execution_count": 1,
   "metadata": {},
   "outputs": [],
   "source": [
    "from pathlib import Path\n",
    "from mt_metadata.utils import converters\n",
    "\n",
    "%load_ext autoreload\n",
    "%autoreload 2"
   ]
  },
  {
   "cell_type": "markdown",
   "metadata": {},
   "source": [
    "## Convert old JSON to JSON Schema"
   ]
  },
  {
   "cell_type": "code",
   "execution_count": 8,
   "metadata": {},
   "outputs": [],
   "source": [
    "mt_metadata_path = Path(r\"C:\\Users\\jpeacock\\OneDrive - DOI\\Documents\\GitHub\\mt_metadata\\mt_metadata\\processing\")"
   ]
  },
  {
   "cell_type": "code",
   "execution_count": 9,
   "metadata": {},
   "outputs": [
    {
     "name": "stdout",
     "output_type": "stream",
     "text": [
      "Error converting C:\\Users\\jpeacock\\OneDrive - DOI\\Documents\\GitHub\\mt_metadata\\mt_metadata\\processing\\aurora\\standards\\channel_nomenclatures.json: 'type'\n",
      "Error converting C:\\Users\\jpeacock\\OneDrive - DOI\\Documents\\GitHub\\mt_metadata\\mt_metadata\\processing\\aurora\\standards\\decimation_level.json: 'Could not find the type bool in the type dict.'\n",
      "Error converting C:\\Users\\jpeacock\\OneDrive - DOI\\Documents\\GitHub\\mt_metadata\\mt_metadata\\processing\\aurora\\standards\\regression.json: 'Could not find the type int in the type dict.'\n",
      "Error converting C:\\Users\\jpeacock\\OneDrive - DOI\\Documents\\GitHub\\mt_metadata\\mt_metadata\\processing\\aurora\\standards\\window.json: 'Could not find the type bool in the type dict.'\n",
      "Error converting C:\\Users\\jpeacock\\OneDrive - DOI\\Documents\\GitHub\\mt_metadata\\mt_metadata\\processing\\standards\\short_time_fourier_transform.json: 'Could not find the type bool in the type dict.'\n",
      "Error converting C:\\Users\\jpeacock\\OneDrive - DOI\\Documents\\GitHub\\mt_metadata\\mt_metadata\\processing\\standards\\window.json: 'Could not find the type bool in the type dict.'\n"
     ]
    }
   ],
   "source": [
    "new_files = []\n",
    "# Convert all JSON files in the mt_metadata directory to JSON schema\n",
    "for old_file in mt_metadata_path.rglob(\"*.json\"):\n",
    "    if \"schema\" in old_file.name:\n",
    "        continue\n",
    "    try:\n",
    "        new_files.append(converters.to_json_schema(old_file))\n",
    "    except Exception as error:\n",
    "        print(f\"Error converting {old_file}: {error}\")"
   ]
  },
  {
   "cell_type": "markdown",
   "metadata": {},
   "source": [
    "## Convert new JSON Schema to Objects"
   ]
  },
  {
   "cell_type": "code",
   "execution_count": 24,
   "metadata": {},
   "outputs": [],
   "source": [
    "model_path = Path(r\"c:\\Users\\jpeacock\\OneDrive - DOI\\Documents\\GitHub\\mt_metadata\\mt_metadata\\standards\\features\")"
   ]
  },
  {
   "cell_type": "code",
   "execution_count": 28,
   "metadata": {},
   "outputs": [
    {
     "name": "stdout",
     "output_type": "stream",
     "text": [
      "\u001b[33m\u001b[1m2025-07-18T16:23:17.220539-0700 | WARNING | mt_metadata.utils.converters | clean_and_format_code | autoflake is not installed. Unused imports will not be removed. Install with 'pip install autoflake'.\u001b[0m\n",
      "\u001b[33m\u001b[1m2025-07-18T16:23:17.282105-0700 | WARNING | mt_metadata.utils.converters | clean_and_format_code | autoflake is not installed. Unused imports will not be removed. Install with 'pip install autoflake'.\u001b[0m\n",
      "\u001b[33m\u001b[1m2025-07-18T16:23:17.346085-0700 | WARNING | mt_metadata.utils.converters | clean_and_format_code | autoflake is not installed. Unused imports will not be removed. Install with 'pip install autoflake'.\u001b[0m\n",
      "adding units to C:\\Users\\jpeacock\\OneDrive - DOI\\Documents\\GitHub\\mt_metadata\\mt_metadata\\features\\feature_decimation_channel_basemodel.py\n",
      "\u001b[33m\u001b[1m2025-07-18T16:23:17.405609-0700 | WARNING | mt_metadata.utils.converters | clean_and_format_code | autoflake is not installed. Unused imports will not be removed. Install with 'pip install autoflake'.\u001b[0m\n",
      "\u001b[33m\u001b[1m2025-07-18T16:23:17.493171-0700 | WARNING | mt_metadata.utils.converters | clean_and_format_code | autoflake is not installed. Unused imports will not be removed. Install with 'pip install autoflake'.\u001b[0m\n",
      "\u001b[33m\u001b[1m2025-07-18T16:23:17.548168-0700 | WARNING | mt_metadata.utils.converters | clean_and_format_code | autoflake is not installed. Unused imports will not be removed. Install with 'pip install autoflake'.\u001b[0m\n",
      "\u001b[33m\u001b[1m2025-07-18T16:23:17.594674-0700 | WARNING | mt_metadata.utils.converters | clean_and_format_code | autoflake is not installed. Unused imports will not be removed. Install with 'pip install autoflake'.\u001b[0m\n",
      "\u001b[33m\u001b[1m2025-07-18T16:23:17.654701-0700 | WARNING | mt_metadata.utils.converters | clean_and_format_code | autoflake is not installed. Unused imports will not be removed. Install with 'pip install autoflake'.\u001b[0m\n",
      "\u001b[33m\u001b[1m2025-07-18T16:23:17.714191-0700 | WARNING | mt_metadata.utils.converters | clean_and_format_code | autoflake is not installed. Unused imports will not be removed. Install with 'pip install autoflake'.\u001b[0m\n",
      "\u001b[33m\u001b[1m2025-07-18T16:23:17.760201-0700 | WARNING | mt_metadata.utils.converters | clean_and_format_code | autoflake is not installed. Unused imports will not be removed. Install with 'pip install autoflake'.\u001b[0m\n",
      "\u001b[33m\u001b[1m2025-07-18T16:23:17.836737-0700 | WARNING | mt_metadata.utils.converters | clean_and_format_code | autoflake is not installed. Unused imports will not be removed. Install with 'pip install autoflake'.\u001b[0m\n",
      "\u001b[33m\u001b[1m2025-07-18T16:23:17.982863-0700 | WARNING | mt_metadata.utils.converters | clean_and_format_code | autoflake is not installed. Unused imports will not be removed. Install with 'pip install autoflake'.\u001b[0m\n",
      "\u001b[33m\u001b[1m2025-07-18T16:23:18.052861-0700 | WARNING | mt_metadata.utils.converters | clean_and_format_code | autoflake is not installed. Unused imports will not be removed. Install with 'pip install autoflake'.\u001b[0m\n",
      "\u001b[33m\u001b[1m2025-07-18T16:23:18.156392-0700 | WARNING | mt_metadata.utils.converters | clean_and_format_code | autoflake is not installed. Unused imports will not be removed. Install with 'pip install autoflake'.\u001b[0m\n"
     ]
    }
   ],
   "source": [
    "for fn in model_path.rglob(\"*.json\"):\n",
    "    try:\n",
    "        converters.generate_pydantic_basemodel(fn)\n",
    "    except Exception as error:\n",
    "        print(f\"FAILED: Could not convert {fn.name}. \\n\\t{error}\")\n"
   ]
  },
  {
   "cell_type": "code",
   "execution_count": 6,
   "metadata": {},
   "outputs": [
    {
     "data": {
      "text/plain": [
       "False"
      ]
     },
     "execution_count": 6,
     "metadata": {},
     "output_type": "execute_result"
    }
   ],
   "source": [
    "model_path.exists()"
   ]
  },
  {
   "cell_type": "code",
   "execution_count": null,
   "metadata": {},
   "outputs": [],
   "source": []
  }
 ],
 "metadata": {
  "kernelspec": {
   "display_name": "py311",
   "language": "python",
   "name": "python3"
  },
  "language_info": {
   "codemirror_mode": {
    "name": "ipython",
    "version": 3
   },
   "file_extension": ".py",
   "mimetype": "text/x-python",
   "name": "python",
   "nbconvert_exporter": "python",
   "pygments_lexer": "ipython3",
   "version": "3.11.11"
  }
 },
 "nbformat": 4,
 "nbformat_minor": 2
}
