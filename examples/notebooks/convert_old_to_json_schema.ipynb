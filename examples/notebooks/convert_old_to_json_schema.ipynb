{
 "cells": [
  {
   "cell_type": "markdown",
   "metadata": {},
   "source": [
    "# Convert Old To JSON Schema\n",
    "\n",
    "This notebook demonstrates how to convert old JSON style files to a JSON Schema file.  The conversion is relatively simple, but necessary."
   ]
  },
  {
   "cell_type": "code",
   "execution_count": null,
   "metadata": {},
   "outputs": [],
   "source": [
    "from pathlib import Path\n",
    "from mt_metadata.utils import converters\n",
    "\n",
    "%load_ext autoreload\n",
    "%autoreload 2"
   ]
  },
  {
   "cell_type": "markdown",
   "metadata": {},
   "source": [
    "## Convert old JSON to JSON Schema"
   ]
  },
  {
   "cell_type": "code",
   "execution_count": null,
   "metadata": {},
   "outputs": [],
   "source": [
    "mt_metadata_path = Path(r\"C:\\Users\\peaco\\OneDrive\\Documents\\GitHub\\mt_metadata\\mt_metadata\")"
   ]
  },
  {
   "cell_type": "code",
   "execution_count": null,
   "metadata": {},
   "outputs": [],
   "source": [
    "new_files = []\n",
    "# Convert all JSON files in the mt_metadata directory to JSON schema\n",
    "for old_file in mt_metadata_path.rglob(\"*.json\"):\n",
    "    if \"schema\" in old_file.name:\n",
    "        continue\n",
    "    try:\n",
    "        new_files.append(converters.to_json_schema(old_file))\n",
    "    except Exception as error:\n",
    "        print(f\"Error converting {old_file}: {error}\")"
   ]
  },
  {
   "cell_type": "markdown",
   "metadata": {},
   "source": [
    "## Convert new JSON Schema to Objects"
   ]
  },
  {
   "cell_type": "code",
   "execution_count": 7,
   "metadata": {},
   "outputs": [],
   "source": [
    "model_path = Path(r\"c:\\Users\\jpeacock\\OneDrive - DOI\\Documents\\GitHub\\mt_metadata\\mt_metadata\\standards\\timeseries\")"
   ]
  },
  {
   "cell_type": "code",
   "execution_count": null,
   "metadata": {},
   "outputs": [
    {
     "name": "stdout",
     "output_type": "stream",
     "text": [
      "\u001b[1m2025-04-14T12:42:53.930810-0700 | INFO | mt_metadata.utils.converters | generate_pydantic_basemodel | Saved to C:\\Users\\jpeacock\\OneDrive - DOI\\Documents\\GitHub\\mt_metadata\\mt_metadata\\timeseries\\auxiliary_basemodel.py\u001b[0m\n",
      "\u001b[1m2025-04-14T12:42:54.016161-0700 | INFO | mt_metadata.utils.converters | generate_pydantic_basemodel | Saved to C:\\Users\\jpeacock\\OneDrive - DOI\\Documents\\GitHub\\mt_metadata\\mt_metadata\\timeseries\\battery_basemodel.py\u001b[0m\n",
      "\u001b[1m2025-04-14T12:42:54.166787-0700 | INFO | mt_metadata.utils.converters | generate_pydantic_basemodel | Saved to C:\\Users\\jpeacock\\OneDrive - DOI\\Documents\\GitHub\\mt_metadata\\mt_metadata\\timeseries\\channel_basemodel.py\u001b[0m\n",
      "\u001b[1m2025-04-14T12:42:54.283166-0700 | INFO | mt_metadata.utils.converters | generate_pydantic_basemodel | Saved to C:\\Users\\jpeacock\\OneDrive - DOI\\Documents\\GitHub\\mt_metadata\\mt_metadata\\timeseries\\citation_basemodel.py\u001b[0m\n",
      "\u001b[33m\u001b[1m2025-04-14T12:42:54.302750-0700 | WARNING | mt_metadata.utils.converters | generate_pydantic_basemodel | copyright.json Error formatting code using black: Cannot parse: 12:7:     CC BY = 'CC BY'\u001b[0m\n",
      "\u001b[1m2025-04-14T12:42:54.309255-0700 | INFO | mt_metadata.utils.converters | generate_pydantic_basemodel | Saved to C:\\Users\\jpeacock\\OneDrive - DOI\\Documents\\GitHub\\mt_metadata\\mt_metadata\\timeseries\\copyright_basemodel.py\u001b[0m\n",
      "\u001b[1m2025-04-14T12:42:54.373055-0700 | INFO | mt_metadata.utils.converters | generate_pydantic_basemodel | Saved to C:\\Users\\jpeacock\\OneDrive - DOI\\Documents\\GitHub\\mt_metadata\\mt_metadata\\timeseries\\data_quality_basemodel.py\u001b[0m\n",
      "\u001b[1m2025-04-14T12:42:54.430406-0700 | INFO | mt_metadata.utils.converters | generate_pydantic_basemodel | Saved to C:\\Users\\jpeacock\\OneDrive - DOI\\Documents\\GitHub\\mt_metadata\\mt_metadata\\timeseries\\declination_basemodel.py\u001b[0m\n",
      "\u001b[1m2025-04-14T12:42:54.462632-0700 | INFO | mt_metadata.utils.converters | generate_pydantic_basemodel | Saved to C:\\Users\\jpeacock\\OneDrive - DOI\\Documents\\GitHub\\mt_metadata\\mt_metadata\\timeseries\\diagnostic_basemodel.py\u001b[0m\n",
      "\u001b[1m2025-04-14T12:42:54.578031-0700 | INFO | mt_metadata.utils.converters | generate_pydantic_basemodel | Saved to C:\\Users\\jpeacock\\OneDrive - DOI\\Documents\\GitHub\\mt_metadata\\mt_metadata\\timeseries\\electric_basemodel.py\u001b[0m\n",
      "\u001b[1m2025-04-14T12:42:54.679405-0700 | INFO | mt_metadata.utils.converters | generate_pydantic_basemodel | Saved to C:\\Users\\jpeacock\\OneDrive - DOI\\Documents\\GitHub\\mt_metadata\\mt_metadata\\timeseries\\fdsn_basemodel.py\u001b[0m\n",
      "\u001b[1m2025-04-14T12:42:54.757183-0700 | INFO | mt_metadata.utils.converters | generate_pydantic_basemodel | Saved to C:\\Users\\jpeacock\\OneDrive - DOI\\Documents\\GitHub\\mt_metadata\\mt_metadata\\timeseries\\filtered_basemodel.py\u001b[0m\n",
      "\u001b[1m2025-04-14T12:42:54.872995-0700 | INFO | mt_metadata.utils.converters | generate_pydantic_basemodel | Saved to C:\\Users\\jpeacock\\OneDrive - DOI\\Documents\\GitHub\\mt_metadata\\mt_metadata\\timeseries\\funding_source_basemodel.py\u001b[0m\n",
      "\u001b[1m2025-04-14T12:42:55.073419-0700 | INFO | mt_metadata.utils.converters | generate_pydantic_basemodel | Saved to C:\\Users\\jpeacock\\OneDrive - DOI\\Documents\\GitHub\\mt_metadata\\mt_metadata\\timeseries\\geographic_location_basemodel.py\u001b[0m\n",
      "\u001b[1m2025-04-14T12:42:55.180628-0700 | INFO | mt_metadata.utils.converters | generate_pydantic_basemodel | Saved to C:\\Users\\jpeacock\\OneDrive - DOI\\Documents\\GitHub\\mt_metadata\\mt_metadata\\timeseries\\instrument_basemodel.py\u001b[0m\n",
      "\u001b[1m2025-04-14T12:42:55.410449-0700 | INFO | mt_metadata.utils.converters | generate_pydantic_basemodel | Saved to C:\\Users\\jpeacock\\OneDrive - DOI\\Documents\\GitHub\\mt_metadata\\mt_metadata\\timeseries\\location_basemodel.py\u001b[0m\n",
      "\u001b[1m2025-04-14T12:42:55.493257-0700 | INFO | mt_metadata.utils.converters | generate_pydantic_basemodel | Saved to C:\\Users\\jpeacock\\OneDrive - DOI\\Documents\\GitHub\\mt_metadata\\mt_metadata\\timeseries\\magnetic_basemodel.py\u001b[0m\n",
      "\u001b[1m2025-04-14T12:42:55.573015-0700 | INFO | mt_metadata.utils.converters | generate_pydantic_basemodel | Saved to C:\\Users\\jpeacock\\OneDrive - DOI\\Documents\\GitHub\\mt_metadata\\mt_metadata\\timeseries\\orientation_basemodel.py\u001b[0m\n",
      "\u001b[1m2025-04-14T12:42:55.671235-0700 | INFO | mt_metadata.utils.converters | generate_pydantic_basemodel | Saved to C:\\Users\\jpeacock\\OneDrive - DOI\\Documents\\GitHub\\mt_metadata\\mt_metadata\\timeseries\\person_basemodel.py\u001b[0m\n",
      "\u001b[1m2025-04-14T12:42:55.784817-0700 | INFO | mt_metadata.utils.converters | generate_pydantic_basemodel | Saved to C:\\Users\\jpeacock\\OneDrive - DOI\\Documents\\GitHub\\mt_metadata\\mt_metadata\\timeseries\\person_schema_basemodel.py\u001b[0m\n",
      "Could not convert person_schema_02.json\n",
      "\u001b[1m2025-04-14T12:42:55.898495-0700 | INFO | mt_metadata.utils.converters | generate_pydantic_basemodel | Saved to C:\\Users\\jpeacock\\OneDrive - DOI\\Documents\\GitHub\\mt_metadata\\mt_metadata\\timeseries\\provenance_basemodel.py\u001b[0m\n",
      "\u001b[1m2025-04-14T12:42:55.952122-0700 | INFO | mt_metadata.utils.converters | generate_pydantic_basemodel | Saved to C:\\Users\\jpeacock\\OneDrive - DOI\\Documents\\GitHub\\mt_metadata\\mt_metadata\\timeseries\\rating_basemodel.py\u001b[0m\n",
      "\u001b[1m2025-04-14T12:42:56.049186-0700 | INFO | mt_metadata.utils.converters | generate_pydantic_basemodel | Saved to C:\\Users\\jpeacock\\OneDrive - DOI\\Documents\\GitHub\\mt_metadata\\mt_metadata\\timeseries\\run_basemodel.py\u001b[0m\n",
      "\u001b[1m2025-04-14T12:42:56.131526-0700 | INFO | mt_metadata.utils.converters | generate_pydantic_basemodel | Saved to C:\\Users\\jpeacock\\OneDrive - DOI\\Documents\\GitHub\\mt_metadata\\mt_metadata\\timeseries\\software_basemodel.py\u001b[0m\n",
      "\u001b[1m2025-04-14T12:42:56.235824-0700 | INFO | mt_metadata.utils.converters | generate_pydantic_basemodel | Saved to C:\\Users\\jpeacock\\OneDrive - DOI\\Documents\\GitHub\\mt_metadata\\mt_metadata\\timeseries\\station_basemodel.py\u001b[0m\n",
      "\u001b[33m\u001b[1m2025-04-14T12:42:56.304128-0700 | WARNING | mt_metadata.utils.converters | generate_pydantic_basemodel | survey.json Error formatting code using black: Cannot parse: 118:28:     def validate_time_period.end_date(cls, field_value: MTime | float | int | np.datetime64 | pd.Timestamp | str):\u001b[0m\n",
      "\u001b[1m2025-04-14T12:42:56.306707-0700 | INFO | mt_metadata.utils.converters | generate_pydantic_basemodel | Saved to C:\\Users\\jpeacock\\OneDrive - DOI\\Documents\\GitHub\\mt_metadata\\mt_metadata\\timeseries\\survey_basemodel.py\u001b[0m\n",
      "\u001b[33m\u001b[1m2025-04-14T12:42:56.321317-0700 | WARNING | mt_metadata.utils.converters | generate_pydantic_basemodel | time_period.json Error formatting code using black: Cannot parse: 10:22:     default=1980-01-01T00:00:00+00:00,\u001b[0m\n",
      "\u001b[1m2025-04-14T12:42:56.323314-0700 | INFO | mt_metadata.utils.converters | generate_pydantic_basemodel | Saved to C:\\Users\\jpeacock\\OneDrive - DOI\\Documents\\GitHub\\mt_metadata\\mt_metadata\\timeseries\\time_period_basemodel.py\u001b[0m\n",
      "\u001b[1m2025-04-14T12:42:56.395772-0700 | INFO | mt_metadata.utils.converters | generate_pydantic_basemodel | Saved to C:\\Users\\jpeacock\\OneDrive - DOI\\Documents\\GitHub\\mt_metadata\\mt_metadata\\timeseries\\timing_system_basemodel.py\u001b[0m\n",
      "\u001b[1m2025-04-14T12:42:56.421075-0700 | INFO | mt_metadata.utils.converters | generate_pydantic_basemodel | Saved to C:\\Users\\jpeacock\\OneDrive - DOI\\Documents\\GitHub\\mt_metadata\\mt_metadata\\timeseries\\filters\\channel_response_basemodel.py\u001b[0m\n",
      "\u001b[1m2025-04-14T12:42:56.449695-0700 | INFO | mt_metadata.utils.converters | generate_pydantic_basemodel | Saved to C:\\Users\\jpeacock\\OneDrive - DOI\\Documents\\GitHub\\mt_metadata\\mt_metadata\\timeseries\\filters\\coefficient_filter_basemodel.py\u001b[0m\n",
      "\u001b[1m2025-04-14T12:42:56.568614-0700 | INFO | mt_metadata.utils.converters | generate_pydantic_basemodel | Saved to C:\\Users\\jpeacock\\OneDrive - DOI\\Documents\\GitHub\\mt_metadata\\mt_metadata\\timeseries\\filters\\filter_base_basemodel.py\u001b[0m\n",
      "Could not convert fir_filter.json\n",
      "Could not convert frequency_response_table_filter.json\n",
      "Could not convert pole_zero_filter.json\n",
      "\u001b[1m2025-04-14T12:42:56.639578-0700 | INFO | mt_metadata.utils.converters | generate_pydantic_basemodel | Saved to C:\\Users\\jpeacock\\OneDrive - DOI\\Documents\\GitHub\\mt_metadata\\mt_metadata\\timeseries\\filters\\time_delay_filter_basemodel.py\u001b[0m\n"
     ]
    }
   ],
   "source": [
    "for fn in model_path.rglob(\"*.json\"):\n",
    "    try:\n",
    "        converters.generate_pydantic_basemodel(fn)\n",
    "    except Exception as error:\n",
    "        print(f\"FAILED: Could not convert {fn.name}. \\n\\t{error}\")\n"
   ]
  },
  {
   "cell_type": "code",
   "execution_count": 6,
   "metadata": {},
   "outputs": [
    {
     "data": {
      "text/plain": [
       "False"
      ]
     },
     "execution_count": 6,
     "metadata": {},
     "output_type": "execute_result"
    }
   ],
   "source": [
    "model_path.exists()"
   ]
  },
  {
   "cell_type": "code",
   "execution_count": null,
   "metadata": {},
   "outputs": [],
   "source": []
  }
 ],
 "metadata": {
  "kernelspec": {
   "display_name": "py311",
   "language": "python",
   "name": "python3"
  },
  "language_info": {
   "codemirror_mode": {
    "name": "ipython",
    "version": 3
   },
   "file_extension": ".py",
   "mimetype": "text/x-python",
   "name": "python",
   "nbconvert_exporter": "python",
   "pygments_lexer": "ipython3",
   "version": "3.11.11"
  }
 },
 "nbformat": 4,
 "nbformat_minor": 2
}
